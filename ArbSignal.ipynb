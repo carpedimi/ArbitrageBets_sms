{
 "cells": [
  {
   "cell_type": "code",
   "execution_count": 1,
   "metadata": {},
   "outputs": [],
   "source": [
    "import pandas as pd"
   ]
  },
  {
   "cell_type": "code",
   "execution_count": 43,
   "metadata": {},
   "outputs": [],
   "source": [
    "toto = pd.read_csv('Data/scrapers/Toto/totoAllSports.csv', index_col=0)\n",
    "kambi = pd.read_csv('Data/scrapers/unibet/unibet_allSports_odds.csv', index_col=0)"
   ]
  },
  {
   "cell_type": "code",
   "execution_count": 44,
   "metadata": {},
   "outputs": [
    {
     "data": {
      "text/plain": [
       "{'Alex Minaur Wint een Set',\n",
       " 'Alexander Zverev Wint een Set',\n",
       " 'Andrey Rublev Wint een Set',\n",
       " 'Carlos Alcaraz Wint een Set',\n",
       " 'Casper Ruud Wint een Set',\n",
       " 'Correcte Score - Set 1',\n",
       " 'Daniil Medvedev Wint een Set',\n",
       " 'Game Handicap',\n",
       " 'Game Handicap - Set 1',\n",
       " 'Jannik Sinner Wint een Set',\n",
       " 'Meeste aces',\n",
       " 'Set Handicap',\n",
       " 'Setwedden',\n",
       " 'Taylor Fritz Wint een Set',\n",
       " 'Totaal Aantal Games',\n",
       " 'Totaal Aantal Games - Set 1',\n",
       " 'Totaal Aantal Games - Set 2',\n",
       " 'Totaal Aantal Gewonnen Games door Alcaraz, Carlos',\n",
       " 'Totaal Aantal Gewonnen Games door De Minaur, Alex',\n",
       " 'Totaal Aantal Gewonnen Games door Fritz, Taylor',\n",
       " 'Totaal Aantal Gewonnen Games door Medvedev, Daniil',\n",
       " 'Totaal Aantal Gewonnen Games door Rublev, Andrey',\n",
       " 'Totaal Aantal Gewonnen Games door Ruud, Casper',\n",
       " 'Totaal Aantal Gewonnen Games door Sinner, Jannik',\n",
       " 'Totaal Aantal Gewonnen Games door Zverev, Alexander',\n",
       " 'Totaal Aantal Sets',\n",
       " 'Totaal Aantal Tiebreaks',\n",
       " 'Totaal aantal minuten',\n",
       " 'Totaal aantal servicebreaks',\n",
       " 'Wedstrijdnotering'}"
      ]
     },
     "execution_count": 44,
     "metadata": {},
     "output_type": "execute_result"
    }
   ],
   "source": [
    "# event name is key\n",
    "# event keys: Wedstrijd = Wedstrijd, outcome = 1 vs 2\n",
    "#             Over/Under criterion_label + line : 'Totaal Aantal Gewonnen Games door Alcaraz, Carlos' + 125000.0 vs Market Name: 'Carlos Alcaraz Aantal Games - Over/Under 12.5'\n",
    "set(kambi[kambi['sport'] == 'TENNIS'][['criterion_label',\n",
    "       'criterion_english_label', 'occurrence_type', 'lifetime',\n",
    "       'bet_offer_type_id', 'bet_offer_type_name',\n",
    "       'bet_offer_type_english_name', 'event_id', 'outcome_id',\n",
    "       'outcome_label', 'outcome_english_label', 'odds', 'line', 'participant',\n",
    "       'type', 'status',\n",
    "       'cash_out_status', 'home_score', 'away_score', 'event_name']].criterion_label)"
   ]
  },
  {
   "cell_type": "code",
   "execution_count": 40,
   "metadata": {},
   "outputs": [
    {
     "data": {
      "text/html": [
       "<div>\n",
       "<style scoped>\n",
       "    .dataframe tbody tr th:only-of-type {\n",
       "        vertical-align: middle;\n",
       "    }\n",
       "\n",
       "    .dataframe tbody tr th {\n",
       "        vertical-align: top;\n",
       "    }\n",
       "\n",
       "    .dataframe thead th {\n",
       "        text-align: right;\n",
       "    }\n",
       "</style>\n",
       "<table border=\"1\" class=\"dataframe\">\n",
       "  <thead>\n",
       "    <tr style=\"text-align: right;\">\n",
       "      <th></th>\n",
       "      <th>criterion_label</th>\n",
       "      <th>criterion_english_label</th>\n",
       "      <th>occurrence_type</th>\n",
       "      <th>lifetime</th>\n",
       "      <th>bet_offer_type_id</th>\n",
       "      <th>bet_offer_type_name</th>\n",
       "      <th>bet_offer_type_english_name</th>\n",
       "      <th>event_id</th>\n",
       "      <th>outcome_id</th>\n",
       "      <th>outcome_label</th>\n",
       "      <th>outcome_english_label</th>\n",
       "      <th>odds</th>\n",
       "      <th>line</th>\n",
       "      <th>participant</th>\n",
       "      <th>type</th>\n",
       "      <th>status</th>\n",
       "      <th>cash_out_status</th>\n",
       "      <th>home_score</th>\n",
       "      <th>away_score</th>\n",
       "      <th>event_name</th>\n",
       "    </tr>\n",
       "  </thead>\n",
       "  <tbody>\n",
       "    <tr>\n",
       "      <th>48</th>\n",
       "      <td>Totaal Aantal Gewonnen Games door Medvedev, Da...</td>\n",
       "      <td>Total games won by Medvedev, Daniil</td>\n",
       "      <td>NaN</td>\n",
       "      <td>NaN</td>\n",
       "      <td>6</td>\n",
       "      <td>Over/Onder</td>\n",
       "      <td>Over/Under</td>\n",
       "      <td>1022071901</td>\n",
       "      <td>3565589032</td>\n",
       "      <td>Meer dan</td>\n",
       "      <td>Over</td>\n",
       "      <td>1890.0</td>\n",
       "      <td>12500.0</td>\n",
       "      <td>NaN</td>\n",
       "      <td>OT_OVER</td>\n",
       "      <td>OPEN</td>\n",
       "      <td>ENABLED</td>\n",
       "      <td>NaN</td>\n",
       "      <td>NaN</td>\n",
       "      <td>Daniil Medvedev vs De Alex Minaur</td>\n",
       "    </tr>\n",
       "    <tr>\n",
       "      <th>49</th>\n",
       "      <td>Totaal Aantal Gewonnen Games door Medvedev, Da...</td>\n",
       "      <td>Total games won by Medvedev, Daniil</td>\n",
       "      <td>NaN</td>\n",
       "      <td>NaN</td>\n",
       "      <td>6</td>\n",
       "      <td>Over/Onder</td>\n",
       "      <td>Over/Under</td>\n",
       "      <td>1022071901</td>\n",
       "      <td>3565589033</td>\n",
       "      <td>Minder dan</td>\n",
       "      <td>Under</td>\n",
       "      <td>1910.0</td>\n",
       "      <td>12500.0</td>\n",
       "      <td>NaN</td>\n",
       "      <td>OT_UNDER</td>\n",
       "      <td>OPEN</td>\n",
       "      <td>ENABLED</td>\n",
       "      <td>NaN</td>\n",
       "      <td>NaN</td>\n",
       "      <td>Daniil Medvedev vs De Alex Minaur</td>\n",
       "    </tr>\n",
       "  </tbody>\n",
       "</table>\n",
       "</div>"
      ],
      "text/plain": [
       "                                      criterion_label  \\\n",
       "48  Totaal Aantal Gewonnen Games door Medvedev, Da...   \n",
       "49  Totaal Aantal Gewonnen Games door Medvedev, Da...   \n",
       "\n",
       "                criterion_english_label occurrence_type lifetime  \\\n",
       "48  Total games won by Medvedev, Daniil             NaN      NaN   \n",
       "49  Total games won by Medvedev, Daniil             NaN      NaN   \n",
       "\n",
       "    bet_offer_type_id bet_offer_type_name bet_offer_type_english_name  \\\n",
       "48                  6          Over/Onder                  Over/Under   \n",
       "49                  6          Over/Onder                  Over/Under   \n",
       "\n",
       "      event_id  outcome_id outcome_label outcome_english_label    odds  \\\n",
       "48  1022071901  3565589032      Meer dan                  Over  1890.0   \n",
       "49  1022071901  3565589033    Minder dan                 Under  1910.0   \n",
       "\n",
       "       line participant      type status cash_out_status  home_score  \\\n",
       "48  12500.0         NaN   OT_OVER   OPEN         ENABLED         NaN   \n",
       "49  12500.0         NaN  OT_UNDER   OPEN         ENABLED         NaN   \n",
       "\n",
       "    away_score                         event_name  \n",
       "48         NaN  Daniil Medvedev vs De Alex Minaur  \n",
       "49         NaN  Daniil Medvedev vs De Alex Minaur  "
      ]
     },
     "execution_count": 40,
     "metadata": {},
     "output_type": "execute_result"
    }
   ],
   "source": [
    "kambi[kambi['criterion_label'].str.contains('Totaal Aantal Gewonnen Games door Medvedev, Daniil')][['criterion_label',\n",
    "       'criterion_english_label', 'occurrence_type', 'lifetime',\n",
    "       'bet_offer_type_id', 'bet_offer_type_name',\n",
    "       'bet_offer_type_english_name', 'event_id', 'outcome_id',\n",
    "       'outcome_label', 'outcome_english_label', 'odds', 'line', 'participant',\n",
    "       'type', 'status',\n",
    "       'cash_out_status', 'home_score', 'away_score', 'event_name']].tail(60)"
   ]
  },
  {
   "cell_type": "code",
   "execution_count": 32,
   "metadata": {},
   "outputs": [
    {
     "data": {
      "text/plain": [
       "{'1e Set - Wedstrijd Resultaat',\n",
       " 'Aantal Games - Odd/Even',\n",
       " 'Aantal Games - Over/Under 21.5',\n",
       " 'Aantal Games - Over/Under 22.5',\n",
       " 'Aantal Games - Over/Under 23.5',\n",
       " 'Alex De Minaur Aantal Games - Over/Under 11.5',\n",
       " 'Alex De Minaur Aantal Games - Over/Under 12.5',\n",
       " 'Alex De Minaur Aantal Games - Over/Under 13.5',\n",
       " 'Alex De Minaur Wint een Set',\n",
       " 'Any Set Win To Nil',\n",
       " 'Daniil Medvedev Aantal Games - Over/Under 11.5',\n",
       " 'Daniil Medvedev Aantal Games - Over/Under 12.5',\n",
       " 'Daniil Medvedev Aantal Games - Over/Under 13.5',\n",
       " 'Daniil Medvedev Wint een Set',\n",
       " 'Exact Sets',\n",
       " 'Game - Handicap Winnaar -0.5',\n",
       " 'Game - Handicap Winnaar -1.5',\n",
       " 'Game - Handicap Winnaar 0.5',\n",
       " 'Match Specials',\n",
       " 'Match Winner and Total Games Over/Under 22.5',\n",
       " 'Price Boost',\n",
       " 'Set - Correct Score',\n",
       " 'Set - Handicap -1.5',\n",
       " 'Set - Handicap 1.5',\n",
       " 'Set 1 Aantal Games - Over/Under 10.5',\n",
       " 'Set 1 Aantal Games - Over/Under 8.5',\n",
       " 'Set 1 Aantal Games - Over/Under 9.5',\n",
       " 'Set 1 Correct Score',\n",
       " 'Set 1 Game - Handicap Winnaar -0.5',\n",
       " 'Set 1 Game - Handicap Winnaar -1.5',\n",
       " 'Set 1 Game - Handicap Winnaar 1.5',\n",
       " 'Wedstrijd'}"
      ]
     },
     "execution_count": 32,
     "metadata": {},
     "output_type": "execute_result"
    }
   ],
   "source": [
    "set(toto[(toto['sport']=='Tennis') & (toto['event_id']==5943214)].drop_duplicates()['Market Name'])"
   ]
  }
 ],
 "metadata": {
  "kernelspec": {
   "display_name": "Python 3",
   "language": "python",
   "name": "python3"
  },
  "language_info": {
   "codemirror_mode": {
    "name": "ipython",
    "version": 3
   },
   "file_extension": ".py",
   "mimetype": "text/x-python",
   "name": "python",
   "nbconvert_exporter": "python",
   "pygments_lexer": "ipython3",
   "version": "3.11.9"
  }
 },
 "nbformat": 4,
 "nbformat_minor": 2
}
