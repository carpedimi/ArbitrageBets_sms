{
 "cells": [
  {
   "cell_type": "code",
   "execution_count": 1,
   "metadata": {
    "execution": {
     "iopub.execute_input": "2025-01-20T21:27:15.284510Z",
     "iopub.status.busy": "2025-01-20T21:27:15.283960Z",
     "iopub.status.idle": "2025-01-20T21:27:15.686979Z",
     "shell.execute_reply": "2025-01-20T21:27:15.686685Z"
    }
   },
   "outputs": [],
   "source": [
    "import pandas as pd\n",
    "import requests\n",
    "import time\n",
    "import random\n",
    "import re"
   ]
  },
  {
   "cell_type": "code",
   "execution_count": 2,
   "metadata": {
    "execution": {
     "iopub.execute_input": "2025-01-20T21:27:15.688356Z",
     "iopub.status.busy": "2025-01-20T21:27:15.688250Z",
     "iopub.status.idle": "2025-01-20T21:27:15.690261Z",
     "shell.execute_reply": "2025-01-20T21:27:15.690053Z"
    }
   },
   "outputs": [
    {
     "name": "stdout",
     "output_type": "stream",
     "text": [
      "2025-01-20T21:27:15Z\n",
      "2025-01-27T21:27:15Z\n"
     ]
    }
   ],
   "source": [
    "from datetime import datetime, timedelta\n",
    "\n",
    "# Current time in UTC\n",
    "now = datetime.utcnow()\n",
    "\n",
    "# Calculate the start time and end time\n",
    "start_time = now.strftime(\"%Y-%m-%dT%H:%M:%SZ\")  # Format as ISO 8601\n",
    "end_time = (now + timedelta(weeks=1)).strftime(\"%Y-%m-%dT%H:%M:%SZ\")  # 3 weeks later\n",
    "\n",
    "# Construct the URL\n",
    "print(start_time)\n",
    "print(end_time)"
   ]
  },
  {
   "cell_type": "code",
   "execution_count": 3,
   "metadata": {
    "execution": {
     "iopub.execute_input": "2025-01-20T21:27:15.704048Z",
     "iopub.status.busy": "2025-01-20T21:27:15.703935Z",
     "iopub.status.idle": "2025-01-20T21:27:15.791818Z",
     "shell.execute_reply": "2025-01-20T21:27:15.791479Z"
    }
   },
   "outputs": [],
   "source": [
    "# Define the URL and parameters\n",
    "url = \"https://eu-offering-api.kambicdn.com/offering/v2018/ubnl/group/highlight.json\"\n",
    "\n",
    "# Headers to match the provided settings\n",
    "headers = {\n",
    "    \"Accept\": \"*/*\",\n",
    "    \"Accept-Encoding\": \"gzip, deflate, br, zstd\",\n",
    "    \"Accept-Language\": \"en-US,en;q=0.5\",\n",
    "    \"Connection\": \"keep-alive\",\n",
    "    \"Origin\": \"https://www.unibet.nl\",\n",
    "    \"Referer\": \"https://www.unibet.nl/\",\n",
    "    \"Sec-Fetch-Dest\": \"empty\",\n",
    "    \"Sec-Fetch-Mode\": \"cors\",\n",
    "    \"Sec-Fetch-Site\": \"cross-site\",\n",
    "    \"User-Agent\": \"Mozilla/5.0 (Macintosh; Intel Mac OS X 10.15; rv:131.0) Gecko/20100101 Firefox/131.0\"\n",
    "}\n",
    "\n",
    "# Additional query parameters\n",
    "params = {\n",
    "    \"lang\": \"nl_NL\",\n",
    "    \"market\": \"NL\",\n",
    "    \"channel_id\": \"1\",\n",
    "    \"client_id\": \"2\",\n",
    "    \"depth\": \"0\",\n",
    "    \"ncid\": \"1731338297307\"\n",
    "}\n",
    "\n",
    "# Send GET request\n",
    "response = requests.get(url, headers=headers, params=params)\n",
    "\n",
    "# Check if the request was successful\n",
    "if response.status_code == 200:\n",
    "    # Parse the JSON response\n",
    "    data = response.json()\n",
    "else:\n",
    "    print(f\"Request failed with status code: {response.status_code}\")"
   ]
  },
  {
   "cell_type": "code",
   "execution_count": 4,
   "metadata": {
    "execution": {
     "iopub.execute_input": "2025-01-20T21:27:15.793327Z",
     "iopub.status.busy": "2025-01-20T21:27:15.793232Z",
     "iopub.status.idle": "2025-01-20T21:27:15.797299Z",
     "shell.execute_reply": "2025-01-20T21:27:15.797046Z"
    }
   },
   "outputs": [],
   "source": [
    "# Extract desired fields\n",
    "extracted_data = [\n",
    "    {\n",
    "        \"name\": group.get(\"name\"),\n",
    "        \"sport\": group.get(\"sport\"),\n",
    "        \"pathTermId\": group.get(\"pathTermId\")\n",
    "    }\n",
    "    for group in data['groups']\n",
    "]\n",
    "\n",
    "# Convert to DataFrame\n",
    "df = pd.DataFrame(extracted_data)"
   ]
  },
  {
   "cell_type": "code",
   "execution_count": 5,
   "metadata": {
    "execution": {
     "iopub.execute_input": "2025-01-20T21:27:15.798605Z",
     "iopub.status.busy": "2025-01-20T21:27:15.798521Z",
     "iopub.status.idle": "2025-01-20T21:27:15.800865Z",
     "shell.execute_reply": "2025-01-20T21:27:15.800619Z"
    }
   },
   "outputs": [],
   "source": [
    "football_list = ['/football/costa_rica',\n",
    " '/football/world_cup_qualifying_-_south_america',\n",
    " '/football/uefa_womens_euro__w_',\n",
    " '/football/scotland',\n",
    " 'football/romania',\n",
    " 'football/finland',\n",
    " 'football/argentina',\n",
    " 'football/south_africa',\n",
    " 'football/poland',\n",
    " 'football/northern_ireland',\n",
    " 'football/usa',\n",
    " 'football/colombia',\n",
    " 'football/paraguay',\n",
    " 'football/bahrain',\n",
    " 'football/israel',\n",
    " '/football/african_nations_cup',\n",
    " '/football/iraq',\n",
    " '/football/fifa_club_world_cup',\n",
    " '/football/conference_league',\n",
    " 'football/norway',\n",
    " 'football/russia',\n",
    " 'football/ukraine',\n",
    " '/football/england',\n",
    " 'football/denmark',\n",
    " 'football/sweden'\n",
    " '/football/spain',\n",
    " '/football/club_friendly_matches',\n",
    " '/football/champions_league__w_',\n",
    " '/football/iceland',\n",
    " '/football/champions_league',\n",
    " '/football/belgium',\n",
    " '/football/uefa_nations_league',\n",
    " '/football/france',\n",
    " '/football/turkey',\n",
    " '/football/europa_league',\n",
    " '/football/brazil',\n",
    " '/football/greece',\n",
    " '/football/australia',\n",
    " '/football/italy',\n",
    " '/football/ethiopia',\n",
    " '/football/copa_libertadores',\n",
    " '/football/saudi_arabia',\n",
    " '/football/egypt',\n",
    " '/football/germany',\n",
    " '/football/portugal',\n",
    " '/football/india',\n",
    " '/football/netherlands',\n",
    " '/football/cyprus',\n",
    " '/football/world_cup_qualifying_-_europe']"
   ]
  },
  {
   "cell_type": "code",
   "execution_count": 6,
   "metadata": {
    "execution": {
     "iopub.execute_input": "2025-01-20T21:27:15.802136Z",
     "iopub.status.busy": "2025-01-20T21:27:15.802048Z",
     "iopub.status.idle": "2025-01-20T21:27:15.804604Z",
     "shell.execute_reply": "2025-01-20T21:27:15.804356Z"
    }
   },
   "outputs": [],
   "source": [
    "sports_list = list(set(list(set(df['pathTermId'])) + football_list))"
   ]
  },
  {
   "cell_type": "code",
   "execution_count": 7,
   "metadata": {
    "execution": {
     "iopub.execute_input": "2025-01-20T21:27:15.805753Z",
     "iopub.status.busy": "2025-01-20T21:27:15.805676Z",
     "iopub.status.idle": "2025-01-20T21:27:15.807772Z",
     "shell.execute_reply": "2025-01-20T21:27:15.807574Z"
    }
   },
   "outputs": [],
   "source": [
    "# # Define the base URL\n",
    "# base_url = \"https://www.unibet.nl/sportsbook-feeds/views/filter/{}/all/matches\"\n",
    "\n",
    "# # Define headers and cookies\n",
    "# headers = {\n",
    "#     \"Accept\": \"*/*\",\n",
    "#     \"Accept-Encoding\": \"gzip, deflate, br, zstd\",\n",
    "#     \"Accept-Language\": \"en-US,en;q=0.5\",\n",
    "#     \"Connection\": \"keep-alive\",\n",
    "#     \"Content-Type\": \"application/json\",\n",
    "#     \"User-Agent\": \"Mozilla/5.0 (Macintosh; Intel Mac OS X 10.15; rv:131.0) Gecko/20100101 Firefox/131.0\",\n",
    "#     \"Origin\": \"https://www.unibet.nl\",\n",
    "#     \"Referer\": \"https://www.unibet.nl/betting/sports/filter\"\n",
    "# }\n",
    "\n",
    "# cookies = {\n",
    "#     \"INGRESSCOOKIE_SPORTSBOOK_FEEDS\": \"d3eab806ac9dba5607cc45c4508ad6ad|e6f03e039bb9fba9ad84e4dd980ef8c9\",\n",
    "#     \"clientId\": \"polopoly_desktop\",\n",
    "#     # Add other cookies as needed here...\n",
    "# }\n",
    "\n",
    "# # Initialize an empty list to collect event data\n",
    "# all_events_data = []\n",
    "\n",
    "# # Loop through each 'pathTermId' in the DataFrame\n",
    "# for path_term_id in df['pathTermId']:\n",
    "#     # Construct the URL with the pathTermId\n",
    "#     url = base_url.format(path_term_id)\n",
    "\n",
    "#     # Define the parameters\n",
    "#     params = {\n",
    "#         \"includeParticipants\": \"true\",\n",
    "#         \"useCombined\": \"true\",\n",
    "#         \"ncid\": \"1731339326\"\n",
    "#     }\n",
    "\n",
    "#     # Make the GET request\n",
    "#     response = requests.get(url, headers=headers, params=params, cookies=cookies)\n",
    "\n",
    "#     # Check the status code and parse the response\n",
    "#     if response.status_code == 200:\n",
    "#         data = response.json()\n",
    "        \n",
    "#         # Loop over events and gather the necessary information\n",
    "#         try:\n",
    "#             for event in data['layout']['sections'][1]['widgets'][0]['matches']['groups'][0]['events']:\n",
    "#                 event_info = event.get('event', {})\n",
    "#                 event_data = {\n",
    "#                     'event_id': event_info.get('id'),\n",
    "#                     'event_name': event_info.get('englishName'),\n",
    "#                     'sport': event_info.get('sport')\n",
    "#                 }\n",
    "#                 all_events_data.append(event_data)\n",
    "#         except:\n",
    "#             for event in data['layout']['sections'][1]['widgets'][0]['matches']['events']:\n",
    "#                 event_info = event.get('event', {})\n",
    "#                 event_data = {\n",
    "#                     'event_id': event_info.get('id'),\n",
    "#                     'event_name': event_info.get('englishName'),\n",
    "#                     'sport': event_info.get('sport')\n",
    "#                 }\n",
    "#                 all_events_data.append(event_data)\n",
    "#     else:\n",
    "#         print(f\"Request failed for {path_term_id} with status code: {response.status_code}\")\n",
    "\n",
    "# # Convert the collected data to a DataFrame\n",
    "# events_df = pd.DataFrame(all_events_data)\n",
    "\n",
    "# # Display the DataFrame\n",
    "# print(events_df)"
   ]
  },
  {
   "cell_type": "code",
   "execution_count": 8,
   "metadata": {
    "execution": {
     "iopub.execute_input": "2025-01-20T21:27:15.808867Z",
     "iopub.status.busy": "2025-01-20T21:27:15.808782Z",
     "iopub.status.idle": "2025-01-20T21:27:15.811129Z",
     "shell.execute_reply": "2025-01-20T21:27:15.810926Z"
    }
   },
   "outputs": [],
   "source": [
    "# def process_strings(strings):\n",
    "#     result = []\n",
    "#     for s in strings:\n",
    "#         slash_count = s.count('/')\n",
    "#         if slash_count >= 3:\n",
    "#             # Keep everything before the 3rd slash\n",
    "#             result.append('/'.join(s.split('/')[:3]))\n",
    "#         elif slash_count == 2:\n",
    "#             # Keep the whole string\n",
    "#             result.append(s)\n",
    "#         else:\n",
    "#             # Append nothing (empty string or skip)\n",
    "#             result.append('')\n",
    "#     return result\n",
    "\n",
    "# # Example list\n",
    "# strings = [\n",
    "#  '/football/african_nations_cup',\n",
    "#  '/football/belgium/jupiler_pro_league',\n",
    "#  '/football/champions_league',\n",
    "#  '/football/champions_league__w_',\n",
    "#  '/football/conference_league',\n",
    "#  '/football/copa_libertadores',\n",
    "#  '/football/england/efl_cup',\n",
    "#  '/football/england/fa_cup',\n",
    "#  '/football/england/league_one',\n",
    "#  '/football/england/league_two',\n",
    "#  '/football/england/premier_league',\n",
    "#  '/football/england/the_championship',\n",
    "#  '/football/europa_league',\n",
    "#  '/football/fifa_club_world_cup',\n",
    "#  '/football/france/coupe_de_france',\n",
    "#  '/football/france/ligue_1',\n",
    "#  '/football/france/ligue_2/all/matches',\n",
    "#  '/football/germany/2__bundesliga',\n",
    "#  '/football/germany/bundesliga',\n",
    "#  '/football/germany/dfb_pokal',\n",
    "#  '/football/italy/coppa_italia',\n",
    "#  '/football/italy/serie_a',\n",
    "#  '/football/italy/serie_b',\n",
    "#  '/football/netherlands/eerste_divisie',\n",
    "#  '/football/netherlands/eredivisie',\n",
    "#  '/football/netherlands/knvb_beker',\n",
    "#  '/football/portugal/primeira_liga',\n",
    "#  '/football/saudi_arabia/professional_league',\n",
    "#  '/football/spain/copa_del_rey',\n",
    "#  '/football/spain/la_liga',\n",
    "#  '/football/spain/la_liga_2',\n",
    "#  '/football/turkey/super_lig',\n",
    "#  '/football/uefa_nations_league',\n",
    "#  '/football/uefa_womens_euro__w_',\n",
    "#  '/football/world_cup_qualifying_-_europe',\n",
    "#  '/football/world_cup_qualifying_-_south_america',\n",
    "# '/football/scotland/scottish_premiership',\n",
    "# '/football/scotland/championship',\n",
    "# '/football/scotland/league_one',\n",
    "# '/football/scotland/league_two',\n",
    "# '/football/australia/a-league',\n",
    "# '/football/australia/a-league__w_',\n",
    "# '/football/portugal/taca_da_liga',\n",
    "# '/football/portugal/taca_de_portugal',\n",
    "# '/football/portugal/taca_da_liga',\n",
    "# '/football/belgium/challenger_pro_league',\n",
    "# '/football/belgium/beker_van_belgie',\n",
    "# '/football/belgium/jupiler_pro_league',\n",
    "# '/football/brazil/baiano',\n",
    "# '/football/brazil/carioca_a',\n",
    "# '/football/brazil/catarinense',\n",
    "# '/football/brazil/gaucho',\n",
    "# '/football/brazil/goiano',\n",
    "# '/football/brazil/maranhense',\n",
    "# '/football/brazil/mineiro',\n",
    "# '/football/brazil/paranaense',\n",
    "# '/football/brazil/paulista_a1',\n",
    "# '/football/brazil/pernambucano',\n",
    "# '/football/brazil/potiguar',\n",
    "# '/football/brazil/supercopa_do_brasil',\n",
    "# '/football/club_friendly_matches',\n",
    "# '/football/costa_rica/primera_division_costa_rica',\n",
    "# '/football/egypt/premier_league',\n",
    "# '/football/egypt/2nd_division',\n",
    "# '/football/ethiopia/premier_league',\n",
    "# '/football/greece/super_league',\n",
    "# '/football/iceland/reykjavik_cup',\n",
    "# '/football/india/super_league',\n",
    "# '/football/iraq/premier_league',\n",
    "# '/football/cyprus',\n",
    "# 'football/india',\n",
    "# 'football/kuwait',\n",
    "# 'football/saudi_arabia',\n",
    "# 'football/iceland',\n",
    "# 'football/mali',\n",
    "# 'football/mexico',\n",
    "# 'football/wales',\n",
    "# 'football/mali']\n",
    "\n",
    "# # Process the list\n",
    "# processed = process_strings(strings)\n",
    "# list(set(processed))"
   ]
  },
  {
   "cell_type": "code",
   "execution_count": 9,
   "metadata": {
    "execution": {
     "iopub.execute_input": "2025-01-20T21:27:15.812310Z",
     "iopub.status.busy": "2025-01-20T21:27:15.812239Z",
     "iopub.status.idle": "2025-01-20T21:28:01.298505Z",
     "shell.execute_reply": "2025-01-20T21:28:01.297330Z"
    }
   },
   "outputs": [
    {
     "name": "stdout",
     "output_type": "stream",
     "text": [
      "Error processing /tennis: 'NoneType' object is not iterable\n"
     ]
    },
    {
     "name": "stdout",
     "output_type": "stream",
     "text": [
      "No 'groups' or 'events' in matches for football/norway\n"
     ]
    },
    {
     "name": "stdout",
     "output_type": "stream",
     "text": [
      "Error processing /ice_hockey: 'NoneType' object is not iterable\n"
     ]
    },
    {
     "name": "stdout",
     "output_type": "stream",
     "text": [
      "No 'groups' or 'events' in matches for football/denmark\n"
     ]
    },
    {
     "name": "stdout",
     "output_type": "stream",
     "text": [
      "No 'groups' or 'events' in matches for football/sweden/football/spain\n"
     ]
    },
    {
     "name": "stdout",
     "output_type": "stream",
     "text": [
      "No 'groups' or 'events' in matches for /cycling\n"
     ]
    },
    {
     "name": "stdout",
     "output_type": "stream",
     "text": [
      "Error processing /handball: 'NoneType' object is not iterable\n"
     ]
    },
    {
     "name": "stdout",
     "output_type": "stream",
     "text": [
      "No 'groups' or 'events' in matches for football/poland\n"
     ]
    },
    {
     "name": "stdout",
     "output_type": "stream",
     "text": [
      "Request failed for /unibet_featured with status code: 404\n"
     ]
    },
    {
     "name": "stdout",
     "output_type": "stream",
     "text": [
      "Error processing /basketball: 'NoneType' object is not iterable\n"
     ]
    },
    {
     "name": "stdout",
     "output_type": "stream",
     "text": [
      "No 'groups' or 'events' in matches for /formula_1\n"
     ]
    },
    {
     "name": "stdout",
     "output_type": "stream",
     "text": [
      "No 'groups' or 'events' in matches for /baseball\n"
     ]
    },
    {
     "name": "stdout",
     "output_type": "stream",
     "text": [
      "No 'groups' or 'events' in matches for /cycling/tour_de_france\n"
     ]
    },
    {
     "name": "stdout",
     "output_type": "stream",
     "text": [
      "Error processing /table_tennis: 'NoneType' object is not iterable\n"
     ]
    },
    {
     "name": "stdout",
     "output_type": "stream",
     "text": [
      "Error processing /football: 'NoneType' object is not iterable\n"
     ]
    },
    {
     "name": "stdout",
     "output_type": "stream",
     "text": [
      "No 'groups' or 'events' in matches for /golf/pga_tour\n"
     ]
    },
    {
     "name": "stdout",
     "output_type": "stream",
     "text": [
      "       event_id                         event_name     sport group_name\n",
      "0    1021097631         Oxford United - Luton Town  FOOTBALL        N/A\n",
      "1    1021097625    Swansea City - Sheffield United  FOOTBALL        N/A\n",
      "2    1021097627        Watford - Preston North End  FOOTBALL        N/A\n",
      "3    1021097614   Blackburn Rovers - Coventry City  FOOTBALL        N/A\n",
      "4    1021097609          Derby County - Sunderland  FOOTBALL        N/A\n",
      "..          ...                                ...       ...        ...\n",
      "993  1021202450  Çaykur Rizespor - Adana Demirspor  FOOTBALL        N/A\n",
      "994  1021202472   Antalyaspor A.Ş. - Beşiktaş A.Ş.  FOOTBALL        N/A\n",
      "995  1021202464              Bodrumspor - Eyüpspor  FOOTBALL        N/A\n",
      "996  1021202474          Fenerbahçe - Göztepe A.Ş.  FOOTBALL        N/A\n",
      "997  1021202457              Kasımpaşa - Hatayspor  FOOTBALL        N/A\n",
      "\n",
      "[998 rows x 4 columns]\n"
     ]
    }
   ],
   "source": [
    "import requests\n",
    "import pandas as pd\n",
    "\n",
    "# Define the base URL\n",
    "base_url = \"https://www.unibet.nl/sportsbook-feeds/views/filter/{}/all/matches\"\n",
    "\n",
    "# Define headers and cookies\n",
    "headers = {\n",
    "    \"Accept\": \"*/*\",\n",
    "    \"Accept-Encoding\": \"gzip, deflate, br, zstd\",\n",
    "    \"Accept-Language\": \"en-US,en;q=0.5\",\n",
    "    \"Connection\": \"keep-alive\",\n",
    "    \"Content-Type\": \"application/json\",\n",
    "    \"User-Agent\": \"Mozilla/5.0 (Macintosh; Intel Mac OS X 10.15; rv:131.0) Gecko/20100101 Firefox/131.0\",\n",
    "    \"Origin\": \"https://www.unibet.nl\",\n",
    "    \"Referer\": \"https://www.unibet.nl/betting/sports/filter\"\n",
    "}\n",
    "\n",
    "cookies = {\n",
    "    \"INGRESSCOOKIE_SPORTSBOOK_FEEDS\": \"d3eab806ac9dba5607cc45c4508ad6ad|e6f03e039bb9fba9ad84e4dd980ef8c9\",\n",
    "    \"clientId\": \"polopoly_desktop\",\n",
    "    # Add other cookies as needed here...\n",
    "}\n",
    "\n",
    "# Initialize an empty list to collect event data\n",
    "all_events_data = []\n",
    "\n",
    "\n",
    "# Loop through each 'pathTermId' in the list\n",
    "for path_term_id in sports_list:\n",
    "    # Construct the URL with the pathTermId\n",
    "    url = base_url.format(path_term_id)\n",
    "\n",
    "    # Define the parameters\n",
    "    params = {\n",
    "        \"includeParticipants\": \"true\",\n",
    "        \"useCombined\": \"true\",\n",
    "        \"ncid\": \"1731339326\"\n",
    "    }\n",
    "\n",
    "    # Make the GET request\n",
    "    response = requests.get(url, headers=headers, params=params, cookies=cookies)\n",
    "\n",
    "    # Check the status code and parse the response\n",
    "    if response.status_code == 200:\n",
    "        try:\n",
    "            data = response.json()\n",
    "            \n",
    "            # Check if 'layout' and the necessary sections exist\n",
    "            if 'layout' in data and 'sections' in data['layout'] and len(data['layout']['sections']) > 1:\n",
    "                sections = data['layout']['sections'][1]\n",
    "                if 'widgets' in sections and len(sections['widgets']) > 0:\n",
    "                    widgets = sections['widgets'][0]\n",
    "                    if 'matches' in widgets:\n",
    "                        matches = widgets['matches']\n",
    "                        \n",
    "                        # Check if 'groups' is present in matches\n",
    "                        if 'groups' in matches and len(matches['groups']) > 0:\n",
    "                            # Loop over all groups\n",
    "                            for group in matches['groups']:\n",
    "                                group_name = group.get('name', 'N/A')  # Get the group name, if available\n",
    "                                if 'events' in group:\n",
    "                                    # Loop over events and gather the necessary information\n",
    "                                    for event in group['events']:\n",
    "                                        event_info = event.get('event', {})\n",
    "                                        event_data = {\n",
    "                                            'event_id': event_info.get('id'),\n",
    "                                            'event_name': event_info.get('englishName'),\n",
    "                                            'sport': event_info.get('sport'),\n",
    "                                            'group_name': group_name  # Include the group name here\n",
    "                                        }\n",
    "                                        all_events_data.append(event_data)\n",
    "                                else:\n",
    "                                    print(f\"No 'events' key in group {group_name} for {path_term_id}\")\n",
    "                        elif 'events' in matches:\n",
    "                            # Fallback: If 'groups' is not found, check if 'events' is directly under 'matches'\n",
    "                            for event in matches['events']:\n",
    "                                event_info = event.get('event', {})\n",
    "                                event_data = {\n",
    "                                    'event_id': event_info.get('id'),\n",
    "                                    'event_name': event_info.get('englishName'),\n",
    "                                    'sport': event_info.get('sport'),\n",
    "                                    'group_name': 'N/A'  # No group in this case\n",
    "                                }\n",
    "                                all_events_data.append(event_data)\n",
    "                        else:\n",
    "                            print(f\"No 'groups' or 'events' in matches for {path_term_id}\")\n",
    "                    else:\n",
    "                        print(f\"No 'matches' in widgets for {path_term_id}\")\n",
    "                else:\n",
    "                    print(f\"No 'widgets' in section for {path_term_id}\")\n",
    "            else:\n",
    "                print(f\"Invalid data structure for {path_term_id}\")\n",
    "\n",
    "        except Exception as e:\n",
    "            print(f\"Error processing {path_term_id}: {e}\")\n",
    "    else:\n",
    "        print(f\"Request failed for {path_term_id} with status code: {response.status_code}\")\n",
    "\n",
    "# Convert the collected data to a DataFrame\n",
    "events_df = pd.DataFrame(all_events_data)\n",
    "\n",
    "# Display the DataFrame\n",
    "print(events_df)"
   ]
  },
  {
   "cell_type": "markdown",
   "metadata": {},
   "source": [
    "## Loop through event IDs"
   ]
  },
  {
   "cell_type": "code",
   "execution_count": 10,
   "metadata": {
    "execution": {
     "iopub.execute_input": "2025-01-20T21:28:01.302619Z",
     "iopub.status.busy": "2025-01-20T21:28:01.302329Z",
     "iopub.status.idle": "2025-01-20T21:29:13.211271Z",
     "shell.execute_reply": "2025-01-20T21:29:13.210917Z"
    }
   },
   "outputs": [],
   "source": [
    "import requests\n",
    "import pandas as pd\n",
    "\n",
    "# Assuming `events_df` is the DataFrame you've created from the previous example\n",
    "\n",
    "# Get unique event IDs from the DataFrame\n",
    "unique_event_ids = events_df['event_id'].unique()\n",
    "\n",
    "# Define the base URL and parameters\n",
    "base_url = 'https://eu-offering-api.kambicdn.com/offering/v2018/ubnl/betoffer/event/{event_id}.json'\n",
    "params = {\n",
    "    'lang': 'nl_NL',\n",
    "    'market': 'NL',\n",
    "    'client_id': '2',\n",
    "    'channel_id': '1',\n",
    "    'ncid': '1730829230569',\n",
    "    'includeParticipants': 'true'\n",
    "}\n",
    "headers = {\n",
    "    'accept': 'application/json, text/javascript, */*; q=0.01',\n",
    "    'accept-encoding': 'gzip, deflate, br, zstd',\n",
    "    'accept-language': 'en-US,en;q=0.9',\n",
    "    'origin': 'https://www.unibet.nl',\n",
    "    'priority': 'u=1, i',\n",
    "    'referer': 'https://www.unibet.nl/',\n",
    "    'sec-ch-ua': '\"Google Chrome\";v=\"129\", \"Not=A?Brand\";v=\"8\", \"Chromium\";v=\"129\"',\n",
    "    'sec-ch-ua-mobile': '?0',\n",
    "    'sec-ch-ua-platform': '\"macOS\"',\n",
    "    'sec-fetch-dest': 'empty',\n",
    "    'sec-fetch-mode': 'cors',\n",
    "    'sec-fetch-site': 'cross-site',\n",
    "    'user-agent': 'Mozilla/5.0 (Macintosh; Intel Mac OS X 10_15_7) AppleWebKit/537.36 (KHTML, like Gecko) Chrome/129.0.0.0 Safari/537.36'\n",
    "}\n",
    "\n",
    "# Initialize an empty list to collect all rows\n",
    "all_rows = []\n",
    "\n",
    "# Loop through each unique event_id and make the request\n",
    "for event_id in unique_event_ids:\n",
    "    # Construct the URL with the current event_id\n",
    "    url = base_url.format(event_id=event_id)\n",
    "    \n",
    "    # Make the request\n",
    "    response = requests.get(url, headers=headers, params=params)\n",
    "\n",
    "    # Check the response\n",
    "    if response.status_code == 200:\n",
    "        data = response.json()  # Parse the JSON response\n",
    "        bet_offers = data.get('betOffers', [])  # Safely get the betOffers list\n",
    "        \n",
    "        for offer in bet_offers:\n",
    "            for outcome in offer['outcomes']:\n",
    "                row = {\n",
    "                    'bet_offer_id': offer['id'],\n",
    "                    'criterion_id': offer['criterion']['id'],\n",
    "                    'criterion_label': offer['criterion']['label'],\n",
    "                    'criterion_english_label': offer['criterion'].get('englishLabel', None),  # Safe access\n",
    "                    'occurrence_type': offer['criterion'].get('occurrenceType', None),  # Safe access\n",
    "                    'lifetime': offer['criterion'].get('lifetime', None),  # Safe access\n",
    "                    'bet_offer_type_id': offer['betOfferType']['id'],\n",
    "                    'bet_offer_type_name': offer['betOfferType']['name'],\n",
    "                    'bet_offer_type_english_name': offer['betOfferType']['englishName'],\n",
    "                    'event_id': offer['eventId'],\n",
    "                    'outcome_id': outcome['id'],\n",
    "                    'outcome_label': outcome['label'],\n",
    "                    'outcome_english_label': outcome['englishLabel'],\n",
    "                    'odds': outcome.get('odds', None),  # Safe access\n",
    "                    'line': outcome.get('line', None),  # New field added\n",
    "                    'participant': outcome.get('participant', None),  # New field added\n",
    "                    'type': outcome['type'],\n",
    "                    'changed_date': outcome['changedDate'],\n",
    "                    'odds_fractional': outcome.get('oddsFractional', None),  # Safe access\n",
    "                    'odds_american': outcome.get('oddsAmerican', None),  # Safe access\n",
    "                    'status': outcome['status'],\n",
    "                    'cash_out_status': outcome['cashOutStatus'],\n",
    "                    'home_score': outcome.get('homeScore', None),  # Safe access\n",
    "                    'away_score': outcome.get('awayScore', None)   # Safe access\n",
    "                }\n",
    "                all_rows.append(row)  # Append the row to the list\n",
    "\n",
    "    else:\n",
    "        print(f\"Request for event_id {event_id} failed with status code:\", response.status_code)\n",
    "\n",
    "# After the loop, create the final DataFrame from all collected rows\n",
    "final_df = pd.DataFrame(all_rows)"
   ]
  },
  {
   "cell_type": "code",
   "execution_count": 11,
   "metadata": {
    "execution": {
     "iopub.execute_input": "2025-01-20T21:29:13.212658Z",
     "iopub.status.busy": "2025-01-20T21:29:13.212575Z",
     "iopub.status.idle": "2025-01-20T21:29:13.295911Z",
     "shell.execute_reply": "2025-01-20T21:29:13.295263Z"
    }
   },
   "outputs": [],
   "source": [
    "# Perform the left join on 'event_id' to get 'sport' and 'group_name' from events_df\n",
    "final_df = final_df.merge(events_df[['event_id', 'event_name', 'sport', 'group_name']], on='event_id', how='left')"
   ]
  },
  {
   "cell_type": "code",
   "execution_count": 12,
   "metadata": {
    "execution": {
     "iopub.execute_input": "2025-01-20T21:29:13.299285Z",
     "iopub.status.busy": "2025-01-20T21:29:13.299038Z",
     "iopub.status.idle": "2025-01-20T21:29:14.028097Z",
     "shell.execute_reply": "2025-01-20T21:29:14.027848Z"
    }
   },
   "outputs": [
    {
     "name": "stdout",
     "output_type": "stream",
     "text": [
      "                                     criterion_label     sport\n",
      "0  Totaal Aantal Schoten op Doel (Afgehandeld Vol...  FOOTBALL\n",
      "1  Totaal Aantal Schoten op Doel (Afgehandeld Vol...  FOOTBALL\n",
      "2  Totaal Aantal Schoten op Doel (Afgehandeld Vol...  FOOTBALL\n",
      "3  Totaal Aantal Schoten op Doel (Afgehandeld Vol...  FOOTBALL\n",
      "4                            Asian Totaal - 1e Helft  FOOTBALL\n"
     ]
    }
   ],
   "source": [
    "# Function to reformat names from \"Last, First\" to \"First Last\"\n",
    "def reformat_name(match_name):\n",
    "    # Use regex to match \"Last, First - Last, First\" format\n",
    "    formatted_names = re.sub(r\"(\\w+), (\\w+)\", r\"\\2 \\1\", match_name)\n",
    "    formatted_names = formatted_names.replace(\" - \", \" vs \")\n",
    "    return formatted_names\n",
    "\n",
    "# Apply the function to the 'event_name' column\n",
    "final_df['event_name'] = final_df['event_name'].apply(reformat_name)\n",
    "\n",
    "# Define a function to swap and reformat the criterion_label for tennis\n",
    "def swap_name_format(row):\n",
    "    if row['sport'] == 'TENNIS':\n",
    "        # Use regex to capture \"Last name, First name\" pattern and rearrange\n",
    "        match = re.search(r\"(\\w+), (\\w+) wint minstens één set\", row['criterion_label'])\n",
    "        if match:\n",
    "            last_name, first_name = match.groups()\n",
    "            # Reformat to \"First name Last name Wint een Set\"\n",
    "            return f\"{first_name} {last_name} Wint een Set\"\n",
    "    # Return the original criterion_label if conditions are not met\n",
    "    return row['criterion_label']\n",
    "\n",
    "# Apply the function to the criterion_label column\n",
    "final_df['criterion_label'] = final_df.apply(swap_name_format, axis=1)\n",
    "\n",
    "# Display the updated DataFrame\n",
    "print(final_df[['criterion_label', 'sport']].head())"
   ]
  },
  {
   "cell_type": "code",
   "execution_count": 13,
   "metadata": {
    "execution": {
     "iopub.execute_input": "2025-01-20T21:29:14.029222Z",
     "iopub.status.busy": "2025-01-20T21:29:14.029133Z",
     "iopub.status.idle": "2025-01-20T21:29:14.050192Z",
     "shell.execute_reply": "2025-01-20T21:29:14.049857Z"
    }
   },
   "outputs": [],
   "source": [
    "# Replace values in the 'type' column\n",
    "final_df['type'] = final_df['type'].replace({'OT_ONE': '1', 'OT_TWO': '2'})"
   ]
  },
  {
   "cell_type": "code",
   "execution_count": 14,
   "metadata": {
    "execution": {
     "iopub.execute_input": "2025-01-20T21:29:14.051456Z",
     "iopub.status.busy": "2025-01-20T21:29:14.051372Z",
     "iopub.status.idle": "2025-01-20T21:29:14.085899Z",
     "shell.execute_reply": "2025-01-20T21:29:14.085673Z"
    }
   },
   "outputs": [
    {
     "data": {
      "text/html": [
       "<div>\n",
       "<style scoped>\n",
       "    .dataframe tbody tr th:only-of-type {\n",
       "        vertical-align: middle;\n",
       "    }\n",
       "\n",
       "    .dataframe tbody tr th {\n",
       "        vertical-align: top;\n",
       "    }\n",
       "\n",
       "    .dataframe thead th {\n",
       "        text-align: right;\n",
       "    }\n",
       "</style>\n",
       "<table border=\"1\" class=\"dataframe\">\n",
       "  <thead>\n",
       "    <tr style=\"text-align: right;\">\n",
       "      <th></th>\n",
       "      <th>bet_offer_type_id</th>\n",
       "    </tr>\n",
       "  </thead>\n",
       "  <tbody>\n",
       "    <tr>\n",
       "      <th>336</th>\n",
       "      <td>2</td>\n",
       "    </tr>\n",
       "    <tr>\n",
       "      <th>337</th>\n",
       "      <td>2</td>\n",
       "    </tr>\n",
       "    <tr>\n",
       "      <th>338</th>\n",
       "      <td>2</td>\n",
       "    </tr>\n",
       "    <tr>\n",
       "      <th>339</th>\n",
       "      <td>2</td>\n",
       "    </tr>\n",
       "    <tr>\n",
       "      <th>580</th>\n",
       "      <td>2</td>\n",
       "    </tr>\n",
       "    <tr>\n",
       "      <th>...</th>\n",
       "      <td>...</td>\n",
       "    </tr>\n",
       "    <tr>\n",
       "      <th>178964</th>\n",
       "      <td>2</td>\n",
       "    </tr>\n",
       "    <tr>\n",
       "      <th>179026</th>\n",
       "      <td>18</td>\n",
       "    </tr>\n",
       "    <tr>\n",
       "      <th>179027</th>\n",
       "      <td>18</td>\n",
       "    </tr>\n",
       "    <tr>\n",
       "      <th>179075</th>\n",
       "      <td>2</td>\n",
       "    </tr>\n",
       "    <tr>\n",
       "      <th>179076</th>\n",
       "      <td>2</td>\n",
       "    </tr>\n",
       "  </tbody>\n",
       "</table>\n",
       "<p>3293 rows × 1 columns</p>\n",
       "</div>"
      ],
      "text/plain": [
       "        bet_offer_type_id\n",
       "336                     2\n",
       "337                     2\n",
       "338                     2\n",
       "339                     2\n",
       "580                     2\n",
       "...                   ...\n",
       "178964                  2\n",
       "179026                 18\n",
       "179027                 18\n",
       "179075                  2\n",
       "179076                  2\n",
       "\n",
       "[3293 rows x 1 columns]"
      ]
     },
     "execution_count": 14,
     "metadata": {},
     "output_type": "execute_result"
    }
   ],
   "source": [
    "final_df[final_df['criterion_english_label'].str.contains('Draw')][[\n",
    "       'bet_offer_type_id']]"
   ]
  },
  {
   "cell_type": "code",
   "execution_count": 15,
   "metadata": {
    "execution": {
     "iopub.execute_input": "2025-01-20T21:29:14.086986Z",
     "iopub.status.busy": "2025-01-20T21:29:14.086924Z",
     "iopub.status.idle": "2025-01-20T21:29:14.760007Z",
     "shell.execute_reply": "2025-01-20T21:29:14.759699Z"
    }
   },
   "outputs": [],
   "source": [
    "final_output_name = 'unibetAllSports' + start_time + '.csv'\n",
    "final_df.to_csv(final_output_name)"
   ]
  },
  {
   "cell_type": "code",
   "execution_count": 16,
   "metadata": {
    "execution": {
     "iopub.execute_input": "2025-01-20T21:29:14.761371Z",
     "iopub.status.busy": "2025-01-20T21:29:14.761302Z",
     "iopub.status.idle": "2025-01-20T21:29:14.762808Z",
     "shell.execute_reply": "2025-01-20T21:29:14.762540Z"
    }
   },
   "outputs": [],
   "source": [
    "# final_df.to_csv('unibet_allSports_odds.csv')"
   ]
  },
  {
   "cell_type": "code",
   "execution_count": 17,
   "metadata": {
    "execution": {
     "iopub.execute_input": "2025-01-20T21:29:14.763846Z",
     "iopub.status.busy": "2025-01-20T21:29:14.763767Z",
     "iopub.status.idle": "2025-01-20T21:29:14.980474Z",
     "shell.execute_reply": "2025-01-20T21:29:14.980051Z"
    }
   },
   "outputs": [
    {
     "name": "stdout",
     "output_type": "stream",
     "text": [
      "Failed to fetch the webpage. Status code: 503\n"
     ]
    }
   ],
   "source": [
    "import requests\n",
    "from bs4 import BeautifulSoup\n",
    "\n",
    "# URL of the webpage\n",
    "url = \"https://www.unibet.com/betting/sports/filter/football/all/matches\"\n",
    "\n",
    "# Add headers to mimic a browser\n",
    "headers = {\n",
    "    'User-Agent': 'Mozilla/5.0 (Windows NT 10.0; Win64; x64) AppleWebKit/537.36 (KHTML, like Gecko) Chrome/91.0.4472.124 Safari/537.36'\n",
    "}\n",
    "\n",
    "# Fetch the webpage\n",
    "response = requests.get(url, headers=headers)\n",
    "\n",
    "# Check if the request was successful\n",
    "if response.status_code == 200:\n",
    "    # Parse the HTML content\n",
    "    soup = BeautifulSoup(response.text, 'html.parser')\n",
    "    \n",
    "    # Find all 'a' tags with '/football/' in the href attribute\n",
    "    football_links = [a['href'] for a in soup.find_all('a', href=True) if '/football/' in a['href']]\n",
    "    \n",
    "    # Print the links\n",
    "    print(\"Links containing '/football/':\")\n",
    "    for link in football_links:\n",
    "        print(link)\n",
    "else:\n",
    "    print(f\"Failed to fetch the webpage. Status code: {response.status_code}\")"
   ]
  }
 ],
 "metadata": {
  "kernelspec": {
   "display_name": "Python 3",
   "language": "python",
   "name": "python3"
  },
  "language_info": {
   "codemirror_mode": {
    "name": "ipython",
    "version": 3
   },
   "file_extension": ".py",
   "mimetype": "text/x-python",
   "name": "python",
   "nbconvert_exporter": "python",
   "pygments_lexer": "ipython3",
   "version": "3.11.9"
  }
 },
 "nbformat": 4,
 "nbformat_minor": 2
}
