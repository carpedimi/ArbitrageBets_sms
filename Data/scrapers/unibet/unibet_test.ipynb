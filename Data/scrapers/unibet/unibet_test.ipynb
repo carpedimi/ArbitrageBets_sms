{
 "cells": [
  {
   "cell_type": "code",
   "execution_count": 1,
   "metadata": {},
   "outputs": [],
   "source": [
    "import pandas as pd\n",
    "import requests"
   ]
  },
  {
   "cell_type": "code",
   "execution_count": 12,
   "metadata": {},
   "outputs": [
    {
     "name": "stdout",
     "output_type": "stream",
     "text": [
      "{'events': [{'event': {'id': 1021042523, 'name': 'Fulham - Wolves', 'nameDelimiter': '-', 'englishName': 'Fulham - Wolves', 'homeName': 'Fulham', 'awayName': 'Wolves', 'start': '2024-11-23T15:00:00Z', 'group': 'Premier League', 'groupId': 1000094985, 'path': [{'id': 1000093190, 'name': 'Voetbal', 'englishName': 'Football', 'termKey': 'football'}, {'id': 1000461733, 'name': 'Engeland', 'englishName': 'England', 'termKey': 'england'}, {'id': 1000094985, 'name': 'Premier League', 'englishName': 'Premier League', 'termKey': 'premier_league'}], 'nonLiveBoCount': 66, 'sport': 'FOOTBALL', 'tags': ['OFFERED_LIVE', 'BET_BUILDER', 'MATCH'], 'state': 'NOT_STARTED'}, 'betOffers': [{'id': 2470297754, 'closed': '2024-11-23T15:00:00Z', 'criterion': {'id': 1001159858, 'label': 'Reguliere Speeltijd', 'englishLabel': 'Full Time', 'order': [], 'occurrenceType': 'GOALS', 'lifetime': 'FULL_TIME'}, 'betOfferType': {'id': 2, 'name': 'Wedstrijd ', 'englishName': 'Match'}, 'eventId': 1021042523, 'outcomes': [{'id': 3560241391, 'label': '1', 'englishLabel': '1', 'odds': 1700, 'participant': 'Fulham', 'type': 'OT_ONE', 'betOfferId': 2470297754, 'changedDate': '2024-11-11T10:58:13Z', 'participantId': 1000000103, 'oddsFractional': '7/10', 'oddsAmerican': '-143', 'status': 'OPEN', 'cashOutStatus': 'ENABLED'}, {'id': 3560241392, 'label': 'X', 'englishLabel': 'X', 'odds': 4100, 'type': 'OT_CROSS', 'betOfferId': 2470297754, 'changedDate': '2024-11-11T10:58:13Z', 'oddsFractional': '3/1', 'oddsAmerican': '310', 'status': 'OPEN', 'cashOutStatus': 'ENABLED'}, {'id': 3560241393, 'label': '2', 'englishLabel': '2', 'odds': 5000, 'participant': 'Wolves', 'type': 'OT_TWO', 'betOfferId': 2470297754, 'changedDate': '2024-11-11T10:58:13Z', 'participantId': 1000000071, 'oddsFractional': '4/1', 'oddsAmerican': '400', 'status': 'OPEN', 'cashOutStatus': 'ENABLED'}], 'tags': ['OFFERED_PREMATCH', 'BET_BUILDER', 'MAIN'], 'sortOrder': 1, 'cashOutStatus': 'ENABLED'}, {'id': 2470298109, 'closed': '2024-11-23T15:00:00Z', 'criterion': {'id': 1001159926, 'label': 'Totaal Aantal Doelpunten', 'englishLabel': 'Total Goals', 'order': [], 'occurrenceType': 'GOALS', 'lifetime': 'FULL_TIME'}, 'betOfferType': {'id': 6, 'name': 'Over/Onder', 'englishName': 'Over/Under'}, 'eventId': 1021042523, 'outcomes': [{'id': 3560242674, 'label': 'Meer dan', 'englishLabel': 'Over', 'odds': 1660, 'line': 2500, 'type': 'OT_OVER', 'betOfferId': 2470298109, 'changedDate': '2024-11-11T10:58:14Z', 'oddsFractional': '13/20', 'oddsAmerican': '-152', 'status': 'OPEN', 'cashOutStatus': 'ENABLED'}, {'id': 3560242681, 'label': 'Minder dan', 'englishLabel': 'Under', 'odds': 2200, 'line': 2500, 'type': 'OT_UNDER', 'betOfferId': 2470298109, 'changedDate': '2024-11-11T10:58:14Z', 'oddsFractional': '6/5', 'oddsAmerican': '120', 'status': 'OPEN', 'cashOutStatus': 'ENABLED'}], 'tags': ['OFFERED_PREMATCH', 'MAIN_LINE', 'BET_BUILDER'], 'sortOrder': 2, 'cashOutStatus': 'ENABLED'}]}, {'event': {'id': 1021042514, 'name': 'Leicester City - Chelsea', 'nameDelimiter': '-', 'englishName': 'Leicester City - Chelsea', 'homeName': 'Leicester City', 'awayName': 'Chelsea', 'start': '2024-11-23T15:00:00Z', 'group': 'Premier League', 'groupId': 1000094985, 'path': [{'id': 1000093190, 'name': 'Voetbal', 'englishName': 'Football', 'termKey': 'football'}, {'id': 1000461733, 'name': 'Engeland', 'englishName': 'England', 'termKey': 'england'}, {'id': 1000094985, 'name': 'Premier League', 'englishName': 'Premier League', 'termKey': 'premier_league'}], 'nonLiveBoCount': 68, 'sport': 'FOOTBALL', 'tags': ['OFFERED_LIVE', 'BET_BUILDER', 'MATCH'], 'state': 'NOT_STARTED'}, 'betOffers': [{'id': 2470294823, 'closed': '2024-11-23T15:00:00Z', 'criterion': {'id': 1001159858, 'label': 'Reguliere Speeltijd', 'englishLabel': 'Full Time', 'order': [], 'occurrenceType': 'GOALS', 'lifetime': 'FULL_TIME'}, 'betOfferType': {'id': 2, 'name': 'Wedstrijd ', 'englishName': 'Match'}, 'eventId': 1021042514, 'outcomes': [{'id': 3560248119, 'label': '1', 'englishLabel': '1', 'odds': 5400, 'participant': 'Leicester City', 'type': 'OT_ONE', 'betOfferId': 2470294823, 'changedDate': '2024-11-11T10:52:28Z', 'participantId': 1000040947, 'oddsFractional': '22/5', 'oddsAmerican': '440', 'status': 'OPEN', 'cashOutStatus': 'ENABLED'}, {'id': 3560248120, 'label': 'X', 'englishLabel': 'X', 'odds': 4600, 'type': 'OT_CROSS', 'betOfferId': 2470294823, 'changedDate': '2024-11-11T10:52:28Z', 'oddsFractional': '18/5', 'oddsAmerican': '360', 'status': 'OPEN', 'cashOutStatus': 'ENABLED'}, {'id': 3560248121, 'label': '2', 'englishLabel': '2', 'odds': 1610, 'participant': 'Chelsea', 'type': 'OT_TWO', 'betOfferId': 2470294823, 'changedDate': '2024-11-11T10:52:28Z', 'participantId': 1000000080, 'oddsFractional': '3/5', 'oddsAmerican': '-165', 'status': 'OPEN', 'cashOutStatus': 'ENABLED'}], 'tags': ['OFFERED_PREMATCH', 'BET_BUILDER', 'MAIN'], 'sortOrder': 1, 'cashOutStatus': 'ENABLED'}, {'id': 2470295052, 'closed': '2024-11-23T15:00:00Z', 'criterion': {'id': 1001159926, 'label': 'Totaal Aantal Doelpunten', 'englishLabel': 'Total Goals', 'order': [], 'occurrenceType': 'GOALS', 'lifetime': 'FULL_TIME'}, 'betOfferType': {'id': 6, 'name': 'Over/Onder', 'englishName': 'Over/Under'}, 'eventId': 1021042514, 'outcomes': [{'id': 3560248986, 'label': 'Meer dan', 'englishLabel': 'Over', 'odds': 2230, 'line': 3500, 'type': 'OT_OVER', 'betOfferId': 2470295052, 'changedDate': '2024-11-11T10:52:29Z', 'oddsFractional': '6/5', 'oddsAmerican': '123', 'status': 'OPEN', 'cashOutStatus': 'ENABLED'}, {'id': 3560248992, 'label': 'Minder dan', 'englishLabel': 'Under', 'odds': 1650, 'line': 3500, 'type': 'OT_UNDER', 'betOfferId': 2470295052, 'changedDate': '2024-11-11T10:52:29Z', 'oddsFractional': '13/20', 'oddsAmerican': '-155', 'status': 'OPEN', 'cashOutStatus': 'ENABLED'}], 'tags': ['OFFERED_PREMATCH', 'MAIN_LINE', 'BET_BUILDER'], 'sortOrder': 2, 'cashOutStatus': 'ENABLED'}]}, {'event': {'id': 1021042513, 'name': 'Bournemouth - Brighton', 'nameDelimiter': '-', 'englishName': 'Bournemouth - Brighton', 'homeName': 'Bournemouth', 'awayName': 'Brighton', 'start': '2024-11-23T15:00:00Z', 'group': 'Premier League', 'groupId': 1000094985, 'path': [{'id': 1000093190, 'name': 'Voetbal', 'englishName': 'Football', 'termKey': 'football'}, {'id': 1000461733, 'name': 'Engeland', 'englishName': 'England', 'termKey': 'england'}, {'id': 1000094985, 'name': 'Premier League', 'englishName': 'Premier League', 'termKey': 'premier_league'}], 'nonLiveBoCount': 67, 'sport': 'FOOTBALL', 'tags': ['OFFERED_LIVE', 'BET_BUILDER', 'MATCH'], 'state': 'NOT_STARTED'}, 'betOffers': [{'id': 2470294756, 'closed': '2024-11-23T15:00:00Z', 'criterion': {'id': 1001159858, 'label': 'Reguliere Speeltijd', 'englishLabel': 'Full Time', 'order': [], 'occurrenceType': 'GOALS', 'lifetime': 'FULL_TIME'}, 'betOfferType': {'id': 2, 'name': 'Wedstrijd ', 'englishName': 'Match'}, 'eventId': 1021042513, 'outcomes': [{'id': 3560232575, 'label': '1', 'englishLabel': '1', 'odds': 2400, 'participant': 'Bournemouth', 'type': 'OT_ONE', 'betOfferId': 2470294756, 'changedDate': '2024-11-11T11:13:31Z', 'participantId': 1000052183, 'oddsFractional': '7/5', 'oddsAmerican': '140', 'status': 'OPEN', 'cashOutStatus': 'ENABLED'}, {'id': 3560232576, 'label': 'X', 'englishLabel': 'X', 'odds': 3800, 'type': 'OT_CROSS', 'betOfferId': 2470294756, 'changedDate': '2024-11-11T11:13:31Z', 'oddsFractional': '14/5', 'oddsAmerican': '280', 'status': 'OPEN', 'cashOutStatus': 'ENABLED'}, {'id': 3560232577, 'label': '2', 'englishLabel': '2', 'odds': 2900, 'participant': 'Brighton', 'type': 'OT_TWO', 'betOfferId': 2470294756, 'changedDate': '2024-11-11T11:13:31Z', 'participantId': 1000074063, 'oddsFractional': '19/10', 'oddsAmerican': '190', 'status': 'OPEN', 'cashOutStatus': 'ENABLED'}], 'tags': ['OFFERED_PREMATCH', 'BET_BUILDER', 'MAIN'], 'sortOrder': 1, 'cashOutStatus': 'ENABLED'}, {'id': 2470294925, 'closed': '2024-11-23T15:00:00Z', 'criterion': {'id': 1001159926, 'label': 'Totaal Aantal Doelpunten', 'englishLabel': 'Total Goals', 'order': [], 'occurrenceType': 'GOALS', 'lifetime': 'FULL_TIME'}, 'betOfferType': {'id': 6, 'name': 'Over/Onder', 'englishName': 'Over/Under'}, 'eventId': 1021042513, 'outcomes': [{'id': 3560248480, 'label': 'Meer dan', 'englishLabel': 'Over', 'odds': 1570, 'line': 2500, 'type': 'OT_OVER', 'betOfferId': 2470294925, 'changedDate': '2024-11-11T11:13:31Z', 'oddsFractional': '11/20', 'oddsAmerican': '-177', 'status': 'OPEN', 'cashOutStatus': 'ENABLED'}, {'id': 3560248487, 'label': 'Minder dan', 'englishLabel': 'Under', 'odds': 2400, 'line': 2500, 'type': 'OT_UNDER', 'betOfferId': 2470294925, 'changedDate': '2024-11-11T11:13:31Z', 'oddsFractional': '7/5', 'oddsAmerican': '140', 'status': 'OPEN', 'cashOutStatus': 'ENABLED'}], 'tags': ['OFFERED_PREMATCH', 'MAIN_LINE', 'BET_BUILDER'], 'sortOrder': 2, 'cashOutStatus': 'ENABLED'}]}, {'event': {'id': 1021042519, 'name': 'Aston Villa - Crystal Palace', 'nameDelimiter': '-', 'englishName': 'Aston Villa - Crystal Palace', 'homeName': 'Aston Villa', 'awayName': 'Crystal Palace', 'start': '2024-11-23T15:00:00Z', 'group': 'Premier League', 'groupId': 1000094985, 'path': [{'id': 1000093190, 'name': 'Voetbal', 'englishName': 'Football', 'termKey': 'football'}, {'id': 1000461733, 'name': 'Engeland', 'englishName': 'England', 'termKey': 'england'}, {'id': 1000094985, 'name': 'Premier League', 'englishName': 'Premier League', 'termKey': 'premier_league'}], 'nonLiveBoCount': 67, 'sport': 'FOOTBALL', 'tags': ['OFFERED_LIVE', 'BET_BUILDER', 'MATCH'], 'state': 'NOT_STARTED'}, 'betOffers': [{'id': 2470282404, 'closed': '2024-11-23T15:00:00Z', 'criterion': {'id': 1001159858, 'label': 'Reguliere Speeltijd', 'englishLabel': 'Full Time', 'order': [], 'occurrenceType': 'GOALS', 'lifetime': 'FULL_TIME'}, 'betOfferType': {'id': 2, 'name': 'Wedstrijd ', 'englishName': 'Match'}, 'eventId': 1021042519, 'outcomes': [{'id': 3560235006, 'label': '1', 'englishLabel': '1', 'odds': 1620, 'participant': 'Aston Villa', 'type': 'OT_ONE', 'betOfferId': 2470282404, 'changedDate': '2024-11-11T11:11:49Z', 'participantId': 1000000045, 'oddsFractional': '8/13', 'oddsAmerican': '-162', 'status': 'OPEN', 'cashOutStatus': 'ENABLED'}, {'id': 3560235007, 'label': 'X', 'englishLabel': 'X', 'odds': 4250, 'type': 'OT_CROSS', 'betOfferId': 2470282404, 'changedDate': '2024-11-11T11:11:49Z', 'oddsFractional': '13/4', 'oddsAmerican': '325', 'status': 'OPEN', 'cashOutStatus': 'ENABLED'}, {'id': 3560235008, 'label': '2', 'englishLabel': '2', 'odds': 5750, 'participant': 'Crystal Palace', 'type': 'OT_TWO', 'betOfferId': 2470282404, 'changedDate': '2024-11-11T11:11:49Z', 'participantId': 1000013415, 'oddsFractional': '19/4', 'oddsAmerican': '475', 'status': 'OPEN', 'cashOutStatus': 'ENABLED'}], 'tags': ['OFFERED_PREMATCH', 'BET_BUILDER', 'MAIN'], 'sortOrder': 1, 'cashOutStatus': 'ENABLED'}, {'id': 2470304349, 'closed': '2024-11-23T15:00:00Z', 'criterion': {'id': 1001159926, 'label': 'Totaal Aantal Doelpunten', 'englishLabel': 'Total Goals', 'order': [], 'occurrenceType': 'GOALS', 'lifetime': 'FULL_TIME'}, 'betOfferType': {'id': 6, 'name': 'Over/Onder', 'englishName': 'Over/Under'}, 'eventId': 1021042519, 'outcomes': [{'id': 3560235924, 'label': 'Meer dan', 'englishLabel': 'Over', 'odds': 1700, 'line': 2500, 'type': 'OT_OVER', 'betOfferId': 2470304349, 'changedDate': '2024-11-11T11:11:49Z', 'oddsFractional': '7/10', 'oddsAmerican': '-143', 'status': 'OPEN', 'cashOutStatus': 'ENABLED'}, {'id': 3560235928, 'label': 'Minder dan', 'englishLabel': 'Under', 'odds': 2140, 'line': 2500, 'type': 'OT_UNDER', 'betOfferId': 2470304349, 'changedDate': '2024-11-11T11:11:49Z', 'oddsFractional': '57/50', 'oddsAmerican': '114', 'status': 'OPEN', 'cashOutStatus': 'ENABLED'}], 'tags': ['OFFERED_PREMATCH', 'MAIN_LINE', 'BET_BUILDER'], 'sortOrder': 2, 'cashOutStatus': 'ENABLED'}]}, {'event': {'id': 1021042518, 'name': 'Everton - Brentford', 'nameDelimiter': '-', 'englishName': 'Everton - Brentford', 'homeName': 'Everton', 'awayName': 'Brentford', 'start': '2024-11-23T15:00:00Z', 'group': 'Premier League', 'groupId': 1000094985, 'path': [{'id': 1000093190, 'name': 'Voetbal', 'englishName': 'Football', 'termKey': 'football'}, {'id': 1000461733, 'name': 'Engeland', 'englishName': 'England', 'termKey': 'england'}, {'id': 1000094985, 'name': 'Premier League', 'englishName': 'Premier League', 'termKey': 'premier_league'}], 'nonLiveBoCount': 67, 'sport': 'FOOTBALL', 'tags': ['OFFERED_LIVE', 'BET_BUILDER', 'MATCH'], 'state': 'NOT_STARTED'}, 'betOffers': [{'id': 2470282405, 'closed': '2024-11-23T15:00:00Z', 'criterion': {'id': 1001159858, 'label': 'Reguliere Speeltijd', 'englishLabel': 'Full Time', 'order': [], 'occurrenceType': 'GOALS', 'lifetime': 'FULL_TIME'}, 'betOfferType': {'id': 2, 'name': 'Wedstrijd ', 'englishName': 'Match'}, 'eventId': 1021042518, 'outcomes': [{'id': 3560235009, 'label': '1', 'englishLabel': '1', 'odds': 2480, 'participant': 'Everton', 'type': 'OT_ONE', 'betOfferId': 2470282405, 'changedDate': '2024-11-11T11:03:21Z', 'participantId': 1000000047, 'oddsFractional': '29/20', 'oddsAmerican': '148', 'status': 'OPEN', 'cashOutStatus': 'ENABLED'}, {'id': 3560235010, 'label': 'X', 'englishLabel': 'X', 'odds': 3550, 'type': 'OT_CROSS', 'betOfferId': 2470282405, 'changedDate': '2024-11-11T11:03:21Z', 'oddsFractional': '5/2', 'oddsAmerican': '255', 'status': 'OPEN', 'cashOutStatus': 'ENABLED'}, {'id': 3560235011, 'label': '2', 'englishLabel': '2', 'odds': 2900, 'participant': 'Brentford', 'type': 'OT_TWO', 'betOfferId': 2470282405, 'changedDate': '2024-11-11T11:03:21Z', 'participantId': 1000069183, 'oddsFractional': '19/10', 'oddsAmerican': '190', 'status': 'OPEN', 'cashOutStatus': 'ENABLED'}], 'tags': ['OFFERED_PREMATCH', 'BET_BUILDER', 'MAIN'], 'sortOrder': 1, 'cashOutStatus': 'ENABLED'}, {'id': 2470304716, 'closed': '2024-11-23T15:00:00Z', 'criterion': {'id': 1001159926, 'label': 'Totaal Aantal Doelpunten', 'englishLabel': 'Total Goals', 'order': [], 'occurrenceType': 'GOALS', 'lifetime': 'FULL_TIME'}, 'betOfferType': {'id': 6, 'name': 'Over/Onder', 'englishName': 'Over/Under'}, 'eventId': 1021042518, 'outcomes': [{'id': 3560255851, 'label': 'Meer dan', 'englishLabel': 'Over', 'odds': 1760, 'line': 2500, 'type': 'OT_OVER', 'betOfferId': 2470304716, 'changedDate': '2024-11-11T11:03:22Z', 'oddsFractional': '3/4', 'oddsAmerican': '-132', 'status': 'OPEN', 'cashOutStatus': 'ENABLED'}, {'id': 3560255854, 'label': 'Minder dan', 'englishLabel': 'Under', 'odds': 2060, 'line': 2500, 'type': 'OT_UNDER', 'betOfferId': 2470304716, 'changedDate': '2024-11-11T11:03:22Z', 'oddsFractional': '21/20', 'oddsAmerican': '106', 'status': 'OPEN', 'cashOutStatus': 'ENABLED'}], 'tags': ['OFFERED_PREMATCH', 'MAIN_LINE', 'BET_BUILDER'], 'sortOrder': 2, 'cashOutStatus': 'ENABLED'}]}, {'event': {'id': 1021042511, 'name': 'Arsenal - Nottingham Forest', 'nameDelimiter': '-', 'englishName': 'Arsenal - Nottingham Forest', 'homeName': 'Arsenal', 'awayName': 'Nottingham Forest', 'start': '2024-11-23T15:00:00Z', 'group': 'Premier League', 'groupId': 1000094985, 'path': [{'id': 1000093190, 'name': 'Voetbal', 'englishName': 'Football', 'termKey': 'football'}, {'id': 1000461733, 'name': 'Engeland', 'englishName': 'England', 'termKey': 'england'}, {'id': 1000094985, 'name': 'Premier League', 'englishName': 'Premier League', 'termKey': 'premier_league'}], 'nonLiveBoCount': 64, 'sport': 'FOOTBALL', 'tags': ['OFFERED_LIVE', 'BET_BUILDER', 'MATCH'], 'state': 'NOT_STARTED'}, 'betOffers': [{'id': 2470282403, 'closed': '2024-11-23T15:00:00Z', 'criterion': {'id': 1001159858, 'label': 'Reguliere Speeltijd', 'englishLabel': 'Full Time', 'order': [], 'occurrenceType': 'GOALS', 'lifetime': 'FULL_TIME'}, 'betOfferType': {'id': 2, 'name': 'Wedstrijd ', 'englishName': 'Match'}, 'eventId': 1021042511, 'outcomes': [{'id': 3560235003, 'label': '1', 'englishLabel': '1', 'odds': 1350, 'participant': 'Arsenal', 'type': 'OT_ONE', 'betOfferId': 2470282403, 'changedDate': '2024-11-11T11:00:52Z', 'participantId': 1000000085, 'oddsFractional': '7/20', 'oddsAmerican': '-286', 'status': 'OPEN', 'cashOutStatus': 'ENABLED'}, {'id': 3560235004, 'label': 'X', 'englishLabel': 'X', 'odds': 5400, 'type': 'OT_CROSS', 'betOfferId': 2470282403, 'changedDate': '2024-11-11T11:00:52Z', 'oddsFractional': '22/5', 'oddsAmerican': '440', 'status': 'OPEN', 'cashOutStatus': 'ENABLED'}, {'id': 3560235005, 'label': '2', 'englishLabel': '2', 'odds': 10000, 'participant': 'Nottingham Forest', 'type': 'OT_TWO', 'betOfferId': 2470282403, 'changedDate': '2024-11-11T11:00:52Z', 'participantId': 1000000046, 'oddsFractional': '9/1', 'oddsAmerican': '900', 'status': 'OPEN', 'cashOutStatus': 'ENABLED'}], 'tags': ['OFFERED_PREMATCH', 'BET_BUILDER', 'MAIN'], 'sortOrder': 1, 'cashOutStatus': 'ENABLED'}, {'id': 2470282445, 'closed': '2024-11-23T15:00:00Z', 'criterion': {'id': 1001159926, 'label': 'Totaal Aantal Doelpunten', 'englishLabel': 'Total Goals', 'order': [], 'occurrenceType': 'GOALS', 'lifetime': 'FULL_TIME'}, 'betOfferType': {'id': 6, 'name': 'Over/Onder', 'englishName': 'Over/Under'}, 'eventId': 1021042511, 'outcomes': [{'id': 3560235190, 'label': 'Meer dan', 'englishLabel': 'Over', 'odds': 1780, 'line': 2500, 'type': 'OT_OVER', 'betOfferId': 2470282445, 'changedDate': '2024-11-11T11:00:52Z', 'oddsFractional': '10/13', 'oddsAmerican': '-129', 'status': 'OPEN', 'cashOutStatus': 'ENABLED'}, {'id': 3560235197, 'label': 'Minder dan', 'englishLabel': 'Under', 'odds': 2040, 'line': 2500, 'type': 'OT_UNDER', 'betOfferId': 2470282445, 'changedDate': '2024-11-11T11:00:52Z', 'oddsFractional': '26/25', 'oddsAmerican': '104', 'status': 'OPEN', 'cashOutStatus': 'ENABLED'}], 'tags': ['OFFERED_PREMATCH', 'MAIN_LINE', 'BET_BUILDER'], 'sortOrder': 2, 'cashOutStatus': 'ENABLED'}]}, {'event': {'id': 1021042512, 'name': 'Manchester City - Tottenham', 'nameDelimiter': '-', 'englishName': 'Manchester City - Tottenham', 'homeName': 'Manchester City', 'awayName': 'Tottenham', 'start': '2024-11-23T17:30:00Z', 'group': 'Premier League', 'groupId': 1000094985, 'path': [{'id': 1000093190, 'name': 'Voetbal', 'englishName': 'Football', 'termKey': 'football'}, {'id': 1000461733, 'name': 'Engeland', 'englishName': 'England', 'termKey': 'england'}, {'id': 1000094985, 'name': 'Premier League', 'englishName': 'Premier League', 'termKey': 'premier_league'}], 'nonLiveBoCount': 70, 'sport': 'FOOTBALL', 'tags': ['OFFERED_LIVE', 'BET_BUILDER', 'MATCH'], 'state': 'NOT_STARTED'}, 'betOffers': [{'id': 2470294825, 'closed': '2024-11-23T17:30:00Z', 'criterion': {'id': 1001159858, 'label': 'Reguliere Speeltijd', 'englishLabel': 'Full Time', 'order': [], 'occurrenceType': 'GOALS', 'lifetime': 'FULL_TIME'}, 'betOfferType': {'id': 2, 'name': 'Wedstrijd ', 'englishName': 'Match'}, 'eventId': 1021042512, 'outcomes': [{'id': 3560248123, 'label': '1', 'englishLabel': '1', 'odds': 1520, 'participant': 'Manchester City', 'type': 'OT_ONE', 'betOfferId': 2470294825, 'changedDate': '2024-11-11T11:15:29Z', 'participantId': 1000000139, 'oddsFractional': '13/25', 'oddsAmerican': '-195', 'status': 'OPEN', 'cashOutStatus': 'ENABLED'}, {'id': 3560248125, 'label': 'X', 'englishLabel': 'X', 'odds': 5100, 'type': 'OT_CROSS', 'betOfferId': 2470294825, 'changedDate': '2024-11-11T11:15:29Z', 'oddsFractional': '4/1', 'oddsAmerican': '410', 'status': 'OPEN', 'cashOutStatus': 'ENABLED'}, {'id': 3560248126, 'label': '2', 'englishLabel': '2', 'odds': 5800, 'participant': 'Tottenham', 'type': 'OT_TWO', 'betOfferId': 2470294825, 'changedDate': '2024-11-11T11:15:29Z', 'participantId': 1000000083, 'oddsFractional': '24/5', 'oddsAmerican': '480', 'status': 'OPEN', 'cashOutStatus': 'ENABLED'}], 'tags': ['OFFERED_PREMATCH', 'BET_BUILDER', 'MAIN'], 'sortOrder': 1, 'cashOutStatus': 'ENABLED'}, {'id': 2470294824, 'closed': '2024-11-23T17:30:00Z', 'criterion': {'id': 1001159926, 'label': 'Totaal Aantal Doelpunten', 'englishLabel': 'Total Goals', 'order': [], 'occurrenceType': 'GOALS', 'lifetime': 'FULL_TIME'}, 'betOfferType': {'id': 6, 'name': 'Over/Onder', 'englishName': 'Over/Under'}, 'eventId': 1021042512, 'outcomes': [{'id': 3560248122, 'label': 'Meer dan', 'englishLabel': 'Over', 'odds': 1910, 'line': 3500, 'type': 'OT_OVER', 'betOfferId': 2470294824, 'changedDate': '2024-11-11T11:15:28Z', 'oddsFractional': '10/11', 'oddsAmerican': '-110', 'status': 'OPEN', 'cashOutStatus': 'ENABLED'}, {'id': 3560248124, 'label': 'Minder dan', 'englishLabel': 'Under', 'odds': 1890, 'line': 3500, 'type': 'OT_UNDER', 'betOfferId': 2470294824, 'changedDate': '2024-11-11T11:15:28Z', 'oddsFractional': '22/25', 'oddsAmerican': '-113', 'status': 'OPEN', 'cashOutStatus': 'ENABLED'}], 'tags': ['OFFERED_PREMATCH', 'MAIN_LINE', 'BET_BUILDER'], 'sortOrder': 2, 'cashOutStatus': 'ENABLED'}]}, {'event': {'id': 1021042515, 'name': 'Southampton - Liverpool', 'nameDelimiter': '-', 'englishName': 'Southampton - Liverpool', 'homeName': 'Southampton', 'awayName': 'Liverpool', 'start': '2024-11-24T14:00:00Z', 'group': 'Premier League', 'groupId': 1000094985, 'path': [{'id': 1000093190, 'name': 'Voetbal', 'englishName': 'Football', 'termKey': 'football'}, {'id': 1000461733, 'name': 'Engeland', 'englishName': 'England', 'termKey': 'england'}, {'id': 1000094985, 'name': 'Premier League', 'englishName': 'Premier League', 'termKey': 'premier_league'}], 'nonLiveBoCount': 69, 'sport': 'FOOTBALL', 'tags': ['OFFERED_LIVE', 'BET_BUILDER', 'MATCH'], 'state': 'NOT_STARTED'}, 'betOffers': [{'id': 2470297788, 'closed': '2024-11-24T14:00:00Z', 'criterion': {'id': 1001159858, 'label': 'Reguliere Speeltijd', 'englishLabel': 'Full Time', 'order': [], 'occurrenceType': 'GOALS', 'lifetime': 'FULL_TIME'}, 'betOfferType': {'id': 2, 'name': 'Wedstrijd ', 'englishName': 'Match'}, 'eventId': 1021042515, 'outcomes': [{'id': 3560241513, 'label': '1', 'englishLabel': '1', 'odds': 9500, 'participant': 'Southampton', 'type': 'OT_ONE', 'betOfferId': 2470297788, 'changedDate': '2024-11-11T11:20:56Z', 'participantId': 1000000081, 'oddsFractional': '17/2', 'oddsAmerican': '850', 'status': 'OPEN', 'cashOutStatus': 'ENABLED'}, {'id': 3560241514, 'label': 'X', 'englishLabel': 'X', 'odds': 5500, 'type': 'OT_CROSS', 'betOfferId': 2470297788, 'changedDate': '2024-11-11T11:20:56Z', 'oddsFractional': '9/2', 'oddsAmerican': '450', 'status': 'OPEN', 'cashOutStatus': 'ENABLED'}, {'id': 3560241515, 'label': '2', 'englishLabel': '2', 'odds': 1360, 'participant': 'Liverpool', 'type': 'OT_TWO', 'betOfferId': 2470297788, 'changedDate': '2024-11-11T11:20:56Z', 'participantId': 1000000087, 'oddsFractional': '7/20', 'oddsAmerican': '-278', 'status': 'OPEN', 'cashOutStatus': 'ENABLED'}], 'tags': ['OFFERED_PREMATCH', 'BET_BUILDER', 'MAIN'], 'sortOrder': 1, 'cashOutStatus': 'ENABLED'}, {'id': 2470297849, 'closed': '2024-11-24T14:00:00Z', 'criterion': {'id': 1001159926, 'label': 'Totaal Aantal Doelpunten', 'englishLabel': 'Total Goals', 'order': [], 'occurrenceType': 'GOALS', 'lifetime': 'FULL_TIME'}, 'betOfferType': {'id': 6, 'name': 'Over/Onder', 'englishName': 'Over/Under'}, 'eventId': 1021042515, 'outcomes': [{'id': 3560241696, 'label': 'Meer dan', 'englishLabel': 'Over', 'odds': 2200, 'line': 3500, 'type': 'OT_OVER', 'betOfferId': 2470297849, 'changedDate': '2024-11-11T11:20:56Z', 'oddsFractional': '6/5', 'oddsAmerican': '120', 'status': 'OPEN', 'cashOutStatus': 'ENABLED'}, {'id': 3560241700, 'label': 'Minder dan', 'englishLabel': 'Under', 'odds': 1670, 'line': 3500, 'type': 'OT_UNDER', 'betOfferId': 2470297849, 'changedDate': '2024-11-11T11:20:56Z', 'oddsFractional': '4/6', 'oddsAmerican': '-150', 'status': 'OPEN', 'cashOutStatus': 'ENABLED'}], 'tags': ['OFFERED_PREMATCH', 'MAIN_LINE', 'BET_BUILDER'], 'sortOrder': 2, 'cashOutStatus': 'ENABLED'}]}, {'event': {'id': 1021042521, 'name': 'Ipswich Town - Manchester United', 'nameDelimiter': '-', 'englishName': 'Ipswich Town - Manchester United', 'homeName': 'Ipswich Town', 'awayName': 'Manchester United', 'start': '2024-11-24T16:30:00Z', 'group': 'Premier League', 'groupId': 1000094985, 'path': [{'id': 1000093190, 'name': 'Voetbal', 'englishName': 'Football', 'termKey': 'football'}, {'id': 1000461733, 'name': 'Engeland', 'englishName': 'England', 'termKey': 'england'}, {'id': 1000094985, 'name': 'Premier League', 'englishName': 'Premier League', 'termKey': 'premier_league'}], 'nonLiveBoCount': 66, 'sport': 'FOOTBALL', 'tags': ['OFFERED_LIVE', 'BET_BUILDER', 'MATCH'], 'state': 'NOT_STARTED'}, 'betOffers': [{'id': 2470294826, 'closed': '2024-11-24T16:30:00Z', 'criterion': {'id': 1001159858, 'label': 'Reguliere Speeltijd', 'englishLabel': 'Full Time', 'order': [], 'occurrenceType': 'GOALS', 'lifetime': 'FULL_TIME'}, 'betOfferType': {'id': 2, 'name': 'Wedstrijd ', 'englishName': 'Match'}, 'eventId': 1021042521, 'outcomes': [{'id': 3560248127, 'label': '1', 'englishLabel': '1', 'odds': 4700, 'participant': 'Ipswich Town', 'type': 'OT_ONE', 'betOfferId': 2470294826, 'changedDate': '2024-11-11T11:33:26Z', 'participantId': 1000086243, 'oddsFractional': '18/5', 'oddsAmerican': '370', 'status': 'OPEN', 'cashOutStatus': 'ENABLED'}, {'id': 3560248128, 'label': 'X', 'englishLabel': 'X', 'odds': 4200, 'type': 'OT_CROSS', 'betOfferId': 2470294826, 'changedDate': '2024-11-11T11:33:26Z', 'oddsFractional': '16/5', 'oddsAmerican': '320', 'status': 'OPEN', 'cashOutStatus': 'ENABLED'}, {'id': 3560248129, 'label': '2', 'englishLabel': '2', 'odds': 1720, 'participant': 'Manchester United', 'type': 'OT_TWO', 'betOfferId': 2470294826, 'changedDate': '2024-11-11T11:33:26Z', 'participantId': 1000000086, 'oddsFractional': '7/10', 'oddsAmerican': '-139', 'status': 'OPEN', 'cashOutStatus': 'ENABLED'}], 'tags': ['OFFERED_PREMATCH', 'BET_BUILDER', 'MAIN'], 'sortOrder': 1, 'cashOutStatus': 'ENABLED'}, {'id': 2470295340, 'closed': '2024-11-24T16:30:00Z', 'criterion': {'id': 1001159926, 'label': 'Totaal Aantal Doelpunten', 'englishLabel': 'Total Goals', 'order': [], 'occurrenceType': 'GOALS', 'lifetime': 'FULL_TIME'}, 'betOfferType': {'id': 6, 'name': 'Over/Onder', 'englishName': 'Over/Under'}, 'eventId': 1021042521, 'outcomes': [{'id': 3560250102, 'label': 'Meer dan', 'englishLabel': 'Over', 'odds': 1580, 'line': 2500, 'type': 'OT_OVER', 'betOfferId': 2470295340, 'changedDate': '2024-11-11T11:33:26Z', 'oddsFractional': '4/7', 'oddsAmerican': '-175', 'status': 'OPEN', 'cashOutStatus': 'ENABLED'}, {'id': 3560250105, 'label': 'Minder dan', 'englishLabel': 'Under', 'odds': 2380, 'line': 2500, 'type': 'OT_UNDER', 'betOfferId': 2470295340, 'changedDate': '2024-11-11T11:33:26Z', 'oddsFractional': '11/8', 'oddsAmerican': '138', 'status': 'OPEN', 'cashOutStatus': 'ENABLED'}], 'tags': ['OFFERED_PREMATCH', 'MAIN_LINE', 'BET_BUILDER'], 'sortOrder': 2, 'cashOutStatus': 'ENABLED'}]}, {'event': {'id': 1021042516, 'name': 'Newcastle United - West Ham', 'nameDelimiter': '-', 'englishName': 'Newcastle United - West Ham', 'homeName': 'Newcastle United', 'awayName': 'West Ham', 'start': '2024-11-25T20:00:00Z', 'group': 'Premier League', 'groupId': 1000094985, 'path': [{'id': 1000093190, 'name': 'Voetbal', 'englishName': 'Football', 'termKey': 'football'}, {'id': 1000461733, 'name': 'Engeland', 'englishName': 'England', 'termKey': 'england'}, {'id': 1000094985, 'name': 'Premier League', 'englishName': 'Premier League', 'termKey': 'premier_league'}], 'nonLiveBoCount': 68, 'sport': 'FOOTBALL', 'tags': ['OFFERED_LIVE', 'BET_BUILDER', 'MATCH'], 'state': 'NOT_STARTED'}, 'betOffers': [{'id': 2470282432, 'closed': '2024-11-25T20:00:00Z', 'criterion': {'id': 1001159858, 'label': 'Reguliere Speeltijd', 'englishLabel': 'Full Time', 'order': [], 'occurrenceType': 'GOALS', 'lifetime': 'FULL_TIME'}, 'betOfferType': {'id': 2, 'name': 'Wedstrijd ', 'englishName': 'Match'}, 'eventId': 1021042516, 'outcomes': [{'id': 3560235160, 'label': '1', 'englishLabel': '1', 'odds': 1530, 'participant': 'Newcastle United', 'type': 'OT_ONE', 'betOfferId': 2470282432, 'changedDate': '2024-11-11T11:32:55Z', 'participantId': 1000000044, 'oddsFractional': '13/25', 'oddsAmerican': '-190', 'status': 'OPEN', 'cashOutStatus': 'ENABLED'}, {'id': 3560235161, 'label': 'X', 'englishLabel': 'X', 'odds': 4600, 'type': 'OT_CROSS', 'betOfferId': 2470282432, 'changedDate': '2024-11-11T11:32:55Z', 'oddsFractional': '18/5', 'oddsAmerican': '360', 'status': 'OPEN', 'cashOutStatus': 'ENABLED'}, {'id': 3560235162, 'label': '2', 'englishLabel': '2', 'odds': 6400, 'participant': 'West Ham', 'type': 'OT_TWO', 'betOfferId': 2470282432, 'changedDate': '2024-11-11T11:32:55Z', 'participantId': 1000000082, 'oddsFractional': '27/5', 'oddsAmerican': '540', 'status': 'OPEN', 'cashOutStatus': 'ENABLED'}], 'tags': ['OFFERED_PREMATCH', 'BET_BUILDER', 'MAIN'], 'sortOrder': 1, 'cashOutStatus': 'ENABLED'}, {'id': 2470304458, 'closed': '2024-11-25T20:00:00Z', 'criterion': {'id': 1001159926, 'label': 'Totaal Aantal Doelpunten', 'englishLabel': 'Total Goals', 'order': [], 'occurrenceType': 'GOALS', 'lifetime': 'FULL_TIME'}, 'betOfferType': {'id': 6, 'name': 'Over/Onder', 'englishName': 'Over/Under'}, 'eventId': 1021042516, 'outcomes': [{'id': 3560254780, 'label': 'Meer dan', 'englishLabel': 'Over', 'odds': 2480, 'line': 3500, 'type': 'OT_OVER', 'betOfferId': 2470304458, 'changedDate': '2024-11-11T11:32:55Z', 'oddsFractional': '29/20', 'oddsAmerican': '148', 'status': 'OPEN', 'cashOutStatus': 'ENABLED'}, {'id': 3560254782, 'label': 'Minder dan', 'englishLabel': 'Under', 'odds': 1540, 'line': 3500, 'type': 'OT_UNDER', 'betOfferId': 2470304458, 'changedDate': '2024-11-11T11:32:55Z', 'oddsFractional': '8/15', 'oddsAmerican': '-186', 'status': 'OPEN', 'cashOutStatus': 'ENABLED'}], 'tags': ['OFFERED_PREMATCH', 'MAIN_LINE', 'BET_BUILDER'], 'sortOrder': 2, 'cashOutStatus': 'ENABLED'}]}], 'terms': [{'type': 'SPORT', 'id': '/football', 'termKey': 'football', 'localizedName': 'Voetbal', 'parentId': '/', 'englishName': 'Football'}, {'type': 'REGION', 'id': '/football/england', 'termKey': 'england', 'localizedName': 'Engeland', 'parentId': '/football', 'englishName': 'England'}, {'type': 'LEAGUE', 'id': '/football/england/premier_league', 'termKey': 'premier_league', 'localizedName': 'Premier League', 'parentId': '/football/england', 'englishName': 'Premier League'}, {'type': 'ATTRIBUTE', 'id': '/matches', 'termKey': 'matches', 'localizedName': 'matches', 'parentId': '', 'englishName': 'matches'}], 'activeTermIds': ['/football/england/premier_league', '/matches'], 'soonMode': 'MONTHLY', 'categoryGroups': [{'categoryGroupName': 'list_view', 'categories': [{'id': 11942, 'englishName': 'Both Teams To Score', 'localizedName': 'Beide Teams Scoren'}, {'id': 12220, 'englishName': 'Double Chance', 'localizedName': 'Dubbele kans'}, {'id': 11927, 'englishName': 'Half Time', 'localizedName': 'Rust'}, {'id': 11928, 'englishName': 'Total Goals - 1st Half', 'localizedName': 'Totaal doelpunten - 1e Helft'}, {'id': 11929, 'englishName': 'Draw No Bet', 'localizedName': 'Ongeldig bij gelijkspel'}, {'id': 16819, 'englishName': '3-Way Handicap', 'localizedName': '3-Way Handicap'}, {'id': 12319, 'englishName': 'Asian Handicap', 'localizedName': 'Asian Handicap'}, {'id': 11930, 'englishName': 'Total Goals by Home Team', 'localizedName': 'Totaal doelpunten thuisploeg'}, {'id': 11931, 'englishName': 'Total Goals by Away Team', 'localizedName': 'Totaal doelpunten uitploeg'}]}, {'categoryGroupName': 'combined_layout', 'categories': [{'id': 12579, 'englishName': 'match', 'localizedName': 'Wedstrijd'}, {'id': 12580, 'englishName': 'totals', 'localizedName': 'Totaal doelpunten'}], 'localizedName': 'Wedstrijd & Aantal Doelpunten'}], 'activeCategories': ['12580', '12579'], 'activeEventTypes': ['matches'], 'eventTypes': ['competitions', 'matches'], 'defaultEventType': 'matches'}\n"
     ]
    }
   ],
   "source": [
    "# Define the URL and headers\n",
    "url = \"https://eu-offering-api.kambicdn.com/offering/v2018/ubnl/listView/football/england/premier_league/all/matches.json\"\n",
    "params = {\n",
    "    \"lang\": \"nl_NL\",\n",
    "    \"market\": \"NL\",\n",
    "    \"client_id\": \"2\",\n",
    "    \"channel_id\": \"1\",\n",
    "    \"ncid\": \"1730835538397\",\n",
    "    \"useCombined\": \"true\"\n",
    "}\n",
    "\n",
    "headers = {\n",
    "    \"Accept\": \"application/json, text/javascript, */*; q=0.01\",\n",
    "    \"Accept-Encoding\": \"gzip, deflate, br, zstd\",\n",
    "    \"Accept-Language\": \"en-US,en;q=0.9\",\n",
    "    \"Origin\": \"https://www.unibet.nl\",\n",
    "    \"Referer\": \"https://www.unibet.nl/\",\n",
    "    \"User-Agent\": \"Mozilla/5.0 (Macintosh; Intel Mac OS X 10_15_7) AppleWebKit/537.36 (KHTML, like Gecko) Chrome/129.0.0.0 Safari/537.36\"\n",
    "}\n",
    "\n",
    "# Make the GET request\n",
    "response = requests.get(url, headers=headers, params=params)\n",
    "\n",
    "# Check the status code\n",
    "if response.status_code == 200:\n",
    "    # Parse the JSON response\n",
    "    eventsData = response.json()\n",
    "    print(eventsData)  # Output the data for inspection\n",
    "else:\n",
    "    print(f\"Request failed with status code: {response.status_code}\")"
   ]
  },
  {
   "cell_type": "code",
   "execution_count": 3,
   "metadata": {},
   "outputs": [],
   "source": [
    "# Extract the relevant data\n",
    "rows = []\n",
    "\n",
    "for event in eventsData['events']:\n",
    "    event_info = event['event']\n",
    "    for offer in event['betOffers']:\n",
    "        for outcome in offer['outcomes']:\n",
    "            row = {\n",
    "                'event_id': event_info['id'],\n",
    "                'event_name': event_info['name'],\n",
    "                'home_team': event_info['homeName'],\n",
    "                'away_team': event_info['awayName'],\n",
    "                'start_time': event_info['start'],\n",
    "                'bet_offer_id': offer['id'],\n",
    "                'bet_offer_type_name': offer['betOfferType']['name'],\n",
    "                'criterion_label': offer['criterion']['label'],\n",
    "                'outcome_id': outcome['id'],\n",
    "                'outcome_label': outcome['label'],\n",
    "                'participant': outcome.get('participant', None),\n",
    "                'odds': outcome['odds'],\n",
    "                'odds_fractional': outcome['oddsFractional'],\n",
    "                'odds_american': outcome['oddsAmerican'],\n",
    "                'status': outcome['status'],\n",
    "                'cash_out_status': outcome['cashOutStatus']\n",
    "            }\n",
    "            rows.append(row)\n",
    "\n",
    "# Create the DataFrame\n",
    "events_df = pd.DataFrame(rows)"
   ]
  },
  {
   "cell_type": "code",
   "execution_count": 26,
   "metadata": {},
   "outputs": [],
   "source": [
    "# Display the DataFrame\n",
    "events_df.to_csv('unibet_events_df.csv')"
   ]
  },
  {
   "cell_type": "markdown",
   "metadata": {},
   "source": [
    "## Loop through event IDs"
   ]
  },
  {
   "cell_type": "code",
   "execution_count": 4,
   "metadata": {},
   "outputs": [],
   "source": [
    "import requests\n",
    "import pandas as pd\n",
    "\n",
    "# Assuming `events_df` is the DataFrame you've created from the previous example\n",
    "\n",
    "# Get unique event IDs from the DataFrame\n",
    "unique_event_ids = events_df['event_id'].unique()\n",
    "\n",
    "# Define the base URL and parameters\n",
    "base_url = 'https://eu-offering-api.kambicdn.com/offering/v2018/ubnl/betoffer/event/{event_id}.json'\n",
    "params = {\n",
    "    'lang': 'nl_NL',\n",
    "    'market': 'NL',\n",
    "    'client_id': '2',\n",
    "    'channel_id': '1',\n",
    "    'ncid': '1730829230569',\n",
    "    'includeParticipants': 'true'\n",
    "}\n",
    "headers = {\n",
    "    'accept': 'application/json, text/javascript, */*; q=0.01',\n",
    "    'accept-encoding': 'gzip, deflate, br, zstd',\n",
    "    'accept-language': 'en-US,en;q=0.9',\n",
    "    'origin': 'https://www.unibet.nl',\n",
    "    'priority': 'u=1, i',\n",
    "    'referer': 'https://www.unibet.nl/',\n",
    "    'sec-ch-ua': '\"Google Chrome\";v=\"129\", \"Not=A?Brand\";v=\"8\", \"Chromium\";v=\"129\"',\n",
    "    'sec-ch-ua-mobile': '?0',\n",
    "    'sec-ch-ua-platform': '\"macOS\"',\n",
    "    'sec-fetch-dest': 'empty',\n",
    "    'sec-fetch-mode': 'cors',\n",
    "    'sec-fetch-site': 'cross-site',\n",
    "    'user-agent': 'Mozilla/5.0 (Macintosh; Intel Mac OS X 10_15_7) AppleWebKit/537.36 (KHTML, like Gecko) Chrome/129.0.0.0 Safari/537.36'\n",
    "}\n",
    "\n",
    "# Initialize an empty list to collect all rows\n",
    "all_rows = []\n",
    "\n",
    "# Loop through each unique event_id and make the request\n",
    "for event_id in unique_event_ids:\n",
    "    # Construct the URL with the current event_id\n",
    "    url = base_url.format(event_id=event_id)\n",
    "    \n",
    "    # Make the request\n",
    "    response = requests.get(url, headers=headers, params=params)\n",
    "\n",
    "    # Check the response\n",
    "    if response.status_code == 200:\n",
    "        data = response.json()  # Parse the JSON response\n",
    "        bet_offers = data.get('betOffers', [])  # Safely get the betOffers list\n",
    "        \n",
    "        for offer in bet_offers:\n",
    "            for outcome in offer['outcomes']:\n",
    "                row = {\n",
    "                    'bet_offer_id': offer['id'],\n",
    "                    'closed': offer['closed'],\n",
    "                    'criterion_id': offer['criterion']['id'],\n",
    "                    'criterion_label': offer['criterion']['label'],\n",
    "                    'criterion_english_label': offer['criterion'].get('englishLabel', None),  # Safe access\n",
    "                    'occurrence_type': offer['criterion'].get('occurrenceType', None),  # Safe access\n",
    "                    'lifetime': offer['criterion'].get('lifetime', None),  # Safe access\n",
    "                    'bet_offer_type_id': offer['betOfferType']['id'],\n",
    "                    'bet_offer_type_name': offer['betOfferType']['name'],\n",
    "                    'bet_offer_type_english_name': offer['betOfferType']['englishName'],\n",
    "                    'event_id': offer['eventId'],\n",
    "                    'outcome_id': outcome['id'],\n",
    "                    'outcome_label': outcome['label'],\n",
    "                    'outcome_english_label': outcome['englishLabel'],\n",
    "                    'odds': outcome.get('odds', None),  # Safe access\n",
    "                    'line': outcome.get('line', None),  # New field added\n",
    "                    'participant': outcome.get('participant', None),  # New field added\n",
    "                    'type': outcome['type'],\n",
    "                    'changed_date': outcome['changedDate'],\n",
    "                    'odds_fractional': outcome.get('oddsFractional', None),  # Safe access\n",
    "                    'odds_american': outcome.get('oddsAmerican', None),  # Safe access\n",
    "                    'status': outcome['status'],\n",
    "                    'cash_out_status': outcome['cashOutStatus'],\n",
    "                    'home_score': outcome.get('homeScore', None),  # Safe access\n",
    "                    'away_score': outcome.get('awayScore', None)   # Safe access\n",
    "                }\n",
    "                all_rows.append(row)  # Append the row to the list\n",
    "\n",
    "    else:\n",
    "        print(f\"Request for event_id {event_id} failed with status code:\", response.status_code)\n",
    "\n",
    "# After the loop, create the final DataFrame from all collected rows\n",
    "final_df = pd.DataFrame(all_rows)"
   ]
  },
  {
   "cell_type": "code",
   "execution_count": 6,
   "metadata": {},
   "outputs": [],
   "source": [
    "final_df.to_csv('unibet_PL_odds.csv')"
   ]
  }
 ],
 "metadata": {
  "kernelspec": {
   "display_name": "Python 3",
   "language": "python",
   "name": "python3"
  },
  "language_info": {
   "codemirror_mode": {
    "name": "ipython",
    "version": 3
   },
   "file_extension": ".py",
   "mimetype": "text/x-python",
   "name": "python",
   "nbconvert_exporter": "python",
   "pygments_lexer": "ipython3",
   "version": "3.11.9"
  }
 },
 "nbformat": 4,
 "nbformat_minor": 2
}
